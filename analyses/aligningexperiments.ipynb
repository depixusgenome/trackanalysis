{
 "cells": [
  {
   "cell_type": "markdown",
   "metadata": {},
   "source": [
    "# Initialize"
   ]
  },
  {
   "cell_type": "markdown",
   "metadata": {
    "heading_collapsed": true
   },
   "source": [
    "## from tracks"
   ]
  },
  {
   "cell_type": "code",
   "execution_count": null,
   "metadata": {
    "code_folding": [
     6
    ],
    "hidden": true
   },
   "outputs": [],
   "source": [
    "%sx mount /media/data\n",
    "from trackanalysis import *\n",
    "from anastore.api import __TASKS__, modifyclasses, DELETE, CNT\n",
    "TRACKS = TracksDict(\"/media/data/sirius/Andreas/ssHP6_Sequencing_20180102/*/*.ana\", match = \".*OR3_mix_(...)_.*\")\n",
    "TRACKS['ref'] = \"/media/data/sirius/Andreas/ssHP6_Sequencing_20180102/Reference_oligo/Test_020_044_ssHP6_OR3-10_100nM_OR3-11_20nM_after_saturation.ana\"\n",
    "patt       = re.compile(\".*_OR3_mix_(.*?)_.*\")\n",
    "def _remfits(data):\n",
    "    def _mod(x):\n",
    "        if patt.match(x[CNT][0]):\n",
    "            x[CNT] = [TRACKS[patt.match(x[CNT][0]).group(1)].path[0][:-3]+\"trk\"]\n",
    "        else:\n",
    "            x[CNT] = [TRACKS['ref'].path[0][:-3]+\"trk\"]\n",
    "        return x\n",
    "\n",
    "    modifyclasses(data,\n",
    "                  \"model.task.track.TrackReaderTask\",\n",
    "                  {'path': _mod},\n",
    "                  \"peakcalling.processor.fittoreference.FitToReferenceTask\",\n",
    "                  DELETE,\n",
    "                  \"peakcalling.processor.fittohairpin.FitToHairpinTask\",\n",
    "                  DELETE)\n",
    "    return data\n",
    "\n",
    "__TASKS__.patch(_remfits)\n",
    "TRACKS.save(\"/home/pol/Documents/tracks/rnasequencing/ssHP6_Sequencing_20180102/\")"
   ]
  },
  {
   "cell_type": "markdown",
   "metadata": {},
   "source": [
    "## from pk"
   ]
  },
  {
   "cell_type": "code",
   "execution_count": null,
   "metadata": {},
   "outputs": [],
   "source": [
    "from trackanalysis import *\n",
    "\n",
    "TRACKS = TracksDict(\"/home/pol/Documents/tracks/rnasequencing/ssHP6_Sequencing_20180102/*.pk\")\n",
    "TRACKS['GCA'].tasks.subtraction            = 0, 1, 4, 6, 8, 9\n",
    "TRACKS['GCA'].tasks.cleaning.maxsaturation = 100."
   ]
  },
  {
   "cell_type": "markdown",
   "metadata": {},
   "source": [
    "# Viewing Data"
   ]
  },
  {
   "cell_type": "code",
   "execution_count": null,
   "metadata": {
    "scrolled": false
   },
   "outputs": [],
   "source": [
    "%%opts Curve(alpha=0.5)\n",
    "TRACKS.cleancycles"
   ]
  },
  {
   "cell_type": "markdown",
   "metadata": {},
   "source": [
    "# Alignments"
   ]
  },
  {
   "cell_type": "code",
   "execution_count": null,
   "metadata": {
    "code_folding": [
     2
    ]
   },
   "outputs": [],
   "source": [
    "from peakcalling.toreference import CorrectedHistogramFit, Pivot\n",
    "\n",
    "def _createtrack(beads):\n",
    "    TRACKS.load()\n",
    "    out = TRACKS.peaks[list(beads) if beads else ...].dataframe(Tasks.singlestrand(), events = dict(std = 'std'), resolution = 'resolution')\n",
    "    return (out\n",
    "            .reset_index()\n",
    "            .set_index('track')\n",
    "            .join(TRACKS\n",
    "                  .dataframe()[['key', 'modification']]\n",
    "                  .rename(columns = dict(key = 'track'))\n",
    "                  .set_index('track'))\n",
    "            .reset_index('track')\n",
    "            .sort_values(['modification'])\n",
    "           )\n",
    "\n",
    "def alignpeaks(data, bead, normalize = False, **kwa):\n",
    "    data   = data[data.bead == bead]\n",
    "    tracks = [(i, data.reset_index()[lambda x: x.track == i]) for i in data.track.unique()]\n",
    "    if len(kwa):\n",
    "        tracks = [(i, j if i not in kwa else j[j.peakposition < j.peakposition.unique()[kwa[i]]])\n",
    "                  for i, j in tracks]\n",
    "    tracks   = [(i, j.assign(peakposition = lambda x: x.peakposition-x.peakposition.max(),\n",
    "                             avg          = lambda x: x.avg -x.peakposition.max()))\n",
    "              for i, j in tracks]\n",
    "    \n",
    "    if normalize:\n",
    "        fit     = CorrectedHistogramFit(pivot = Pivot.absolute)\n",
    "        frompks = lambda pks: (pks.groupby('peakposition').resolution.first()\n",
    "                               .reset_index().values)\n",
    "        pks     = {i: fit.frompeaks(j.groupby('peakposition').resolution.first().reset_index().values)\n",
    "                   for i, j in tracks}\n",
    "        corr    = {i: fit.optimize(pks['ref'], j) for i, j in pks.items()}\n",
    "        tracks  = [(i, j.assign(peakposition = lambda x: (x.peakposition-corr[i][2])*corr[i][1],\n",
    "                                avg          = lambda x: (x.avg-corr[i][2])*corr[i][1]))\n",
    "                   for i, j in tracks]\n",
    "\n",
    "    out  = pd.concat([i for _, i in tracks])\n",
    "    zero = np.nanmedian(out.groupby('track').peakposition.min())\n",
    "    return out.assign(peakposition = out.peakposition - zero,\n",
    "                      avg          = out.avg - zero)\n",
    "def showpeaks(data, bead, **kwa):\n",
    "    data = alignpeaks(data, bead, **kwa).sort_values(['modification'])\n",
    "    return hv.Scatter(data, \"track\", \"avg\")(plot=dict(jitter=.75), style = dict(alpha=.3))*hv.Scatter(data, \"track\", \"peakposition\")\n",
    "\n",
    "SHELF = LazyShelf(\"/home/pol/Documents/tracks/rnasequencing/ssHP6_Sequencing_20180102/shelf\")\n",
    "SHELF[\"PEAKS\"] = lambda: _createtrack([18])"
   ]
  },
  {
   "cell_type": "code",
   "execution_count": null,
   "metadata": {},
   "outputs": [],
   "source": [
    "showpeaks(SHELF['PEAKS'], 18, AGC = -1, GGC = -1, GCA = -1, normalized = True)"
   ]
  },
  {
   "cell_type": "code",
   "execution_count": null,
   "metadata": {},
   "outputs": [],
   "source": [
    "DATA = alignpeaks(SHELF['PEAKS'], 18, AGC = -1, GGC = -1, GCA = -1, normalized = True)\n",
    "BARR = DATA[lambda x: x.track=='ref'].peakposition.unique()[[3,4]] + [3e-3, -3e-3]\n",
    "GOOD = (DATA\n",
    "        [lambda x: x.peakposition > BARR[0]]\n",
    "        [lambda x: x.peakposition < BARR[1]])\n",
    "pd.DataFrame({sequences.Translator.reversecomplement(i).lower(): pd.Series(GOOD[lambda x: x.track == i].peakposition.unique())\n",
    "              for i in set(GOOD.track.unique()) - {'ref'}}).to_csv(\"/tmp/data.csv\")"
   ]
  },
  {
   "cell_type": "code",
   "execution_count": null,
   "metadata": {},
   "outputs": [],
   "source": []
  }
 ],
 "metadata": {
  "kernelspec": {
   "display_name": "Python 3",
   "language": "python",
   "name": "python3"
  },
  "language_info": {
   "codemirror_mode": {
    "name": "ipython",
    "version": 3
   },
   "file_extension": ".py",
   "mimetype": "text/x-python",
   "name": "python",
   "nbconvert_exporter": "python",
   "pygments_lexer": "ipython3",
   "version": "3.6.4"
  },
  "toc": {
   "nav_menu": {},
   "number_sections": true,
   "sideBar": true,
   "skip_h1_title": false,
   "toc_cell": false,
   "toc_position": {},
   "toc_section_display": "block",
   "toc_window_display": false
  }
 },
 "nbformat": 4,
 "nbformat_minor": 2
}
