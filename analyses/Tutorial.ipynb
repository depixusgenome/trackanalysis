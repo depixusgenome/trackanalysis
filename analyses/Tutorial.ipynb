{
 "cells": [
  {
   "cell_type": "markdown",
   "metadata": {},
   "source": [
    "# Initialisation"
   ]
  },
  {
   "cell_type": "code",
   "execution_count": null,
   "metadata": {},
   "outputs": [],
   "source": [
    "# import all the code\n",
    "from trackanalysis import *"
   ]
  },
  {
   "cell_type": "markdown",
   "metadata": {},
   "source": [
    "We can create two types of objects:"
   ]
  },
  {
   "cell_type": "markdown",
   "metadata": {},
   "source": [
    "## The *Track* Object\n",
    "\n",
    "This is the basic object for reading track files."
   ]
  },
  {
   "cell_type": "code",
   "execution_count": null,
   "metadata": {},
   "outputs": [],
   "source": [
    "TRACK1 = Track(path = \"/path/to/specific/track\")\n",
    "TRACK2 = Track(path = (\"/path/to/specific/track\", \"/path/to/gr/directory/\", \"/path/to/specific/gr/file.gr\"))"
   ]
  },
  {
   "cell_type": "markdown",
   "metadata": {},
   "source": [
    "## The *TracksDict* Object\n",
    "\n",
    "These will access multiple tracks by looking recursively through the provided directories. When providing with  \".cgr\" files, an exact match will be performed between the track file's name and the cgr file's name."
   ]
  },
  {
   "cell_type": "code",
   "execution_count": null,
   "metadata": {
    "code_folding": [
     1
    ]
   },
   "outputs": [],
   "source": [
    "TRACKS = TracksDict(\"/media/data/helicon/andreas/HP_RNASeq/*/*.trk\",  # the path to .trk files\n",
    "\n",
    "                    (\"/home/pol/Seafile/doc_RNA_ANDEAS/\"              # Optional: the path to .cgr files\n",
    "                     \"RNA_sequencing_project/HP_RNASeq_\"              # Note that this is a single string on 3 lines\n",
    "                     \"Sequencing_20170906/Gr plots/*/*.cgr\"),\n",
    "\n",
    "                    match   = r\".*_040_(\\w\\w\\w)_.*\",                  # Optional: We accept only files with _040_ in\n",
    "                                                                      # the name and we take the following 3 letters \n",
    "                                                                      # as the track key\n",
    "\n",
    "                    cgrdirs = \"cgr_dir\")                              # Optional: cgr files will be expected to be in\n",
    "                                                                      # a \"cgr_dir\" directory"
   ]
  },
  {
   "cell_type": "markdown",
   "metadata": {},
   "source": [
    "Specific tracks can be added manually"
   ]
  },
  {
   "cell_type": "code",
   "execution_count": null,
   "metadata": {},
   "outputs": [],
   "source": [
    "TRACKS['specifictrack']         = \"/path/to/specific/track\"           # Access to a specific track\n",
    "TRACKS['specifictrack_and_grs'] = \"/path/to/specific/track\", \"/path/to/gr/1\", \"/path/to/gr/2\""
   ]
  },
  {
   "cell_type": "markdown",
   "metadata": {},
   "source": [
    "The objects can then be accessed throught their keys:\n",
    "\n",
    "* Accessing one key: TRACKS['CGT'] is a *Track* object\n",
    "* Selecting keys: TRACKS[['CGT', 'CCC']] is a *TracksDict* object containing only those 2 keys\n",
    "* Discarding a key: TRACKS[\"~CGT\"] is a *TracksDict* object containing all but \"CGT\""
   ]
  },
  {
   "cell_type": "markdown",
   "metadata": {},
   "source": [
    "# Accessing a Track's Data\n",
    "\n",
    "Consider the track *TRACK1*. We can access:\n",
    "\n",
    "* bead 1: *TRACK1.beads[1]*\n",
    "* bead 1, cycle 10: *TRACK1.cycles[1,10]*\n",
    "* Events in cycle 10: *TRACK1.events[1,10]*\n",
    "* Peaks in bead 1: *TRACK1.peaks[1]*\n",
    "\n",
    "It's also possible to create an object containing a slice of data:\n",
    "\n",
    "* beads 1 and 2: *TRACK1.beads[[1,2]]*\n",
    "* bead 1, all cycles: *TRACK1.cycles[1, :]*\n",
    "* cycle 1, all beads: *TRACK1.cycles[:, 1]*\n",
    "\n",
    "The following will access events with certain properties:"
   ]
  },
  {
   "cell_type": "code",
   "execution_count": null,
   "metadata": {},
   "outputs": [],
   "source": [
    "evts  = TRACK1.events[1, ...]      # select all events for bead 1\n",
    "evts[evts.any < .5]                # all cycles such that one event is above 0.5\n",
    "evts[evts.all < .5]                # all cycles such that all events are above 0.5\n",
    "evts[evts.all < .5 & evts.all >.4] # all cycles such that all events are between 0.4 and 0.5\n",
    "evts[evts.all.std < 1e-3]          # all cycles such that all event standard deviations are above 1.3\n",
    "evts[evts.any.start > 5]           # all cycles such that there are events starting after 5 frames\n",
    "evts[evts[0].all > 5]              # all cycles such that the first event's *mean* is greater than 5"
   ]
  },
  {
   "cell_type": "markdown",
   "metadata": {},
   "source": [
    "# Creating *pandas.DataFrame*\n",
    "\n",
    "This can be done for *events* and *peaks*. Please look at the documentation"
   ]
  },
  {
   "cell_type": "code",
   "execution_count": null,
   "metadata": {},
   "outputs": [],
   "source": [
    "# this will show the documentation:\n",
    "evts = TRACK1.events\n",
    "evts.dataframe?"
   ]
  },
  {
   "cell_type": "code",
   "execution_count": null,
   "metadata": {},
   "outputs": [],
   "source": [
    "# same for peaks\n",
    "peakdata = TRACK1.peaks.dataframe()"
   ]
  },
  {
   "cell_type": "markdown",
   "metadata": {},
   "source": [
    "# Cleaning the Data\n",
    "\n",
    "Some automated cleaning is performed but only for raw track files (no gr files). Some information can be accessed as follows:"
   ]
  },
  {
   "cell_type": "code",
   "execution_count": null,
   "metadata": {},
   "outputs": [],
   "source": [
    "TRACKS.cleaning.messages() # list all messages"
   ]
  },
  {
   "cell_type": "code",
   "execution_count": null,
   "metadata": {},
   "outputs": [],
   "source": [
    "TRACKS.cleaning.good() # beads which are deemed good accross all tracks"
   ]
  },
  {
   "cell_type": "code",
   "execution_count": null,
   "metadata": {},
   "outputs": [],
   "source": [
    "GOOD = TRACK1.dropbad() # returns a  track file without the bad beads"
   ]
  },
  {
   "cell_type": "markdown",
   "metadata": {},
   "source": [
    "# Visualizing Data\n",
    "\n",
    "This can be done in the same way for *TracksDict* and *Track* objects. The former may have more options.\n",
    "Again, please check the documentation."
   ]
  },
  {
   "cell_type": "code",
   "execution_count": null,
   "metadata": {},
   "outputs": [],
   "source": [
    "# the field of view\n",
    "TRACK1.fov"
   ]
  },
  {
   "cell_type": "code",
   "execution_count": null,
   "metadata": {},
   "outputs": [],
   "source": [
    "# cycles:\n",
    "TRACK1.cycles"
   ]
  },
  {
   "cell_type": "code",
   "execution_count": null,
   "metadata": {},
   "outputs": [],
   "source": [
    "# events:\n",
    "TRACK1.events"
   ]
  },
  {
   "cell_type": "code",
   "execution_count": null,
   "metadata": {},
   "outputs": [],
   "source": [
    "# do please check the doc on peaks:\n",
    "TRACKS.peaks?"
   ]
  },
  {
   "cell_type": "code",
   "execution_count": null,
   "metadata": {},
   "outputs": [],
   "source": [
    "# look at peaks fitted to a reference in a 2D histogram but only for beads 27 and 55:\n",
    "TRACKS.peaks(reference = 'ref', format='2d', bead = [27,55])"
   ]
  }
 ],
 "metadata": {
  "kernelspec": {
   "display_name": "Python 3",
   "language": "python",
   "name": "python3"
  },
  "language_info": {
   "codemirror_mode": {
    "name": "ipython",
    "version": 3
   },
   "file_extension": ".py",
   "mimetype": "text/x-python",
   "name": "python",
   "nbconvert_exporter": "python",
   "pygments_lexer": "ipython3",
   "version": "3.6.3"
  }
 },
 "nbformat": 4,
 "nbformat_minor": 2
}
