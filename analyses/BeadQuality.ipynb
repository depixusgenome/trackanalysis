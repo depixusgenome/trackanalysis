{
 "cells": [
  {
   "cell_type": "markdown",
   "metadata": {},
   "source": [
    "# This jupyter notebook...\n",
    "This is a help to the quality assessment of the beads of an experiment\n",
    "\n",
    "# How to use it ?\n",
    "Type the path of your files and then execute the cellules to get some plots that will give you information on the quality of the beads of your experiments"
   ]
  },
  {
   "cell_type": "code",
   "execution_count": null,
   "metadata": {},
   "outputs": [],
   "source": [
    "#import scripting\n",
    "import sys\n",
    "sys.path.insert(0, \"../build\")\n",
    "from scripting import *\n",
    "\n",
    "import beadquality as bq\n",
    "#import pandas as pd"
   ]
  },
  {
   "cell_type": "markdown",
   "metadata": {},
   "source": [
    "## Path\n",
    "In the next cellule put the path of your files"
   ]
  },
  {
   "cell_type": "code",
   "execution_count": null,
   "metadata": {},
   "outputs": [],
   "source": [
    "#Load the tracks, put the path of the data folder\n",
    "tracks = TracksDict(\"../../Documents/local_test_data/tests/ssHP6_Sequencing_20171220/*/*.trk\", match=\".*_043_(\\w\\w\\w)_.*\")\n"
   ]
  },
  {
   "cell_type": "markdown",
   "metadata": {},
   "source": [
    "## Summary Table \n",
    "A summary table of number of **good**, **bad** and **missing** beads for each of the tracks in your experiments."
   ]
  },
  {
   "cell_type": "code",
   "execution_count": null,
   "metadata": {},
   "outputs": [],
   "source": [
    "resume = bq.resumeTracksQuality(tracks)"
   ]
  },
  {
   "cell_type": "code",
   "execution_count": null,
   "metadata": {},
   "outputs": [],
   "source": [
    "resume"
   ]
  },
  {
   "cell_type": "markdown",
   "metadata": {},
   "source": [
    "## Summary of beads by Status\n",
    "A heat map representing the percentage of beads by their status, per track."
   ]
  },
  {
   "cell_type": "code",
   "execution_count": null,
   "metadata": {
    "code_folding": [
     0
    ]
   },
   "outputs": [],
   "source": [
    "#Assign variables order for tracks and beads\n",
    "df_dfGoodBadBeads = bq.dfGoodBadBeads(tracks)\n",
    "\n",
    "order_tracks_chrono = list(tracks.dataframe().set_index('key').sort_values(by='modification').index.values)\n",
    "order_tracks_best = list(df_dfGoodBadBeads.set_index('bead').columns.values)\n",
    "\n",
    "order_beads_normal = tracks.availablebeads()\n",
    "order_beads_best = list(df_dfGoodBadBeads['bead'].values)"
   ]
  },
  {
   "cell_type": "code",
   "execution_count": null,
   "metadata": {},
   "outputs": [],
   "source": [
    "df_resumeBeadsQuality = bq.resumeBeadsQuality(tracks,order_tracks_chrono)\n",
    "bq.heatmapBeadsByStatus(df_resumeBeadsQuality,order_tracks_chrono,pc=True,order='chrono') #pc = True for percentages, False for # // order = 'chrono' or 'best_to_worst'\n",
    "plt.show()"
   ]
  },
  {
   "cell_type": "markdown",
   "metadata": {},
   "source": [
    "## Bead Status per track\n",
    "A detailed plot of bead per track showing its status"
   ]
  },
  {
   "cell_type": "code",
   "execution_count": null,
   "metadata": {
    "scrolled": false
   },
   "outputs": [],
   "source": [
    "plot = bq.heatmapGoodBadDetailed(df_resumeBeadsQuality,order_tracks_chrono,order_beads_best)\n",
    "from bokeh.io import show\n",
    "show(plot)"
   ]
  },
  {
   "cell_type": "markdown",
   "metadata": {},
   "source": [
    "## Flow by Status from initial to final track\n",
    "A flow chart showing the evolution of the status of the beads from one track to another (by default from first to last track)"
   ]
  },
  {
   "cell_type": "code",
   "execution_count": null,
   "metadata": {},
   "outputs": [],
   "source": [
    "df_typeError = bq.typeError(df_resumeBeadsQuality,order_beads_best,order_tracks_chrono)\n",
    "flow_diagram = bq.flowBeads(df_typeError,first_track=None, last_track=None)\n",
    "flow_diagram.show()"
   ]
  },
  {
   "cell_type": "markdown",
   "metadata": {},
   "source": [
    "## Bar chart number of errors by type per track per bead\n",
    "\n",
    "A  stacked bar chart showing the number of errors, for all tracks, for each bead."
   ]
  },
  {
   "cell_type": "code",
   "execution_count": null,
   "metadata": {
    "code_folding": [
     0
    ]
   },
   "outputs": [],
   "source": [
    "%%opts Bars.Stacked [stack_index='typeOfError'  ]\n",
    "%%opts Bars.Stacked (color=Cycle(values=[\"#B22222\",\"#8B008B\",\"#C71585\", \"#FF4500\",\"#FF7F50\"])) \n",
    "\n",
    "dfmsg = bq.dfCleaningMessages(tracks,order_beads_normal,order_tracks_chrono)\n",
    "                               \n",
    "hvbar = bq.barBeads(tracks,df_dfGoodBadBeads,dfmsg,order_tracks_chrono,order_beads_normal)\n",
    "hvbar"
   ]
  },
  {
   "cell_type": "code",
   "execution_count": null,
   "metadata": {},
   "outputs": [],
   "source": []
  },
  {
   "cell_type": "code",
   "execution_count": null,
   "metadata": {},
   "outputs": [],
   "source": []
  }
 ],
 "metadata": {
  "kernelspec": {
   "display_name": "Python 3",
   "language": "python",
   "name": "python3"
  },
  "language_info": {
   "codemirror_mode": {
    "name": "ipython",
    "version": 3
   },
   "file_extension": ".py",
   "mimetype": "text/x-python",
   "name": "python",
   "nbconvert_exporter": "python",
   "pygments_lexer": "ipython3",
   "version": "3.6.4"
  },
  "toc": {
   "nav_menu": {},
   "number_sections": true,
   "sideBar": true,
   "skip_h1_title": false,
   "toc_cell": false,
   "toc_position": {},
   "toc_section_display": "block",
   "toc_window_display": false
  }
 },
 "nbformat": 4,
 "nbformat_minor": 2
}
