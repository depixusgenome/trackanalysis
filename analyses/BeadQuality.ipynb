{
 "cells": [
  {
   "cell_type": "markdown",
   "metadata": {},
   "source": [
    "Beads = set of all beads of the track\n",
    "Cycles(bd) = set of all cycles for bead bd\n",
    "\n",
    "for bd in Beads:\n",
    "    for cy in Cycles(bd):\n",
    "        evaluate criteria for cy:\n",
    "            1) extent < 0.5\n",
    "            2) hfsigma < 0.0001\n",
    "            3) hfsigma > 0.01\n",
    "            4) population(points of cy) > 80%\n",
    "        if 1) or 2) or 3) or 4) are False:\n",
    "            eliminate cy\n",
    "    endfor\n",
    "    evaluate criteria for bd:\n",
    "        5) population(cycles of bd) > 80%\n",
    "        6) saturation < 90%\n",
    "    if 5) or 6) are False:\n",
    "        bd is bad\n",
    "    else:\n",
    "        bd is good\n",
    "    endif\n",
    "endfor\n",
    "        "
   ]
  },
  {
   "cell_type": "code",
   "execution_count": null,
   "metadata": {},
   "outputs": [],
   "source": []
  }
 ],
 "metadata": {
  "kernelspec": {
   "display_name": "Python 3",
   "language": "python",
   "name": "python3"
  },
  "language_info": {
   "codemirror_mode": {
    "name": "ipython",
    "version": 3
   },
   "file_extension": ".py",
   "mimetype": "text/x-python",
   "name": "python",
   "nbconvert_exporter": "python",
   "pygments_lexer": "ipython3",
   "version": "3.6.4"
  },
  "toc": {
   "nav_menu": {},
   "number_sections": true,
   "sideBar": true,
   "skip_h1_title": false,
   "toc_cell": false,
   "toc_position": {},
   "toc_section_display": "block",
   "toc_window_display": false
  }
 },
 "nbformat": 4,
 "nbformat_minor": 2
}
