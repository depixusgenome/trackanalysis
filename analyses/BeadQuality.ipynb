{
 "cells": [
  {
   "cell_type": "code",
   "execution_count": 47,
   "metadata": {},
   "outputs": [
    {
     "name": "stderr",
     "output_type": "stream",
     "text": [
      "[autoreload of beadquality failed: Traceback (most recent call last):\n",
      "  File \"/home/sandra/miniconda3/lib/python3.6/site-packages/IPython/extensions/autoreload.py\", line 246, in check\n",
      "    superreload(m, reload, self.old_objects)\n",
      "  File \"/home/sandra/miniconda3/lib/python3.6/site-packages/IPython/extensions/autoreload.py\", line 369, in superreload\n",
      "    module = reload(module)\n",
      "  File \"/home/sandra/miniconda3/lib/python3.6/imp.py\", line 315, in reload\n",
      "    return importlib.reload(module)\n",
      "  File \"/home/sandra/miniconda3/lib/python3.6/importlib/__init__.py\", line 166, in reload\n",
      "    _bootstrap._exec(spec, module)\n",
      "  File \"<frozen importlib._bootstrap>\", line 618, in _exec\n",
      "  File \"<frozen importlib._bootstrap_external>\", line 674, in exec_module\n",
      "  File \"<frozen importlib._bootstrap_external>\", line 781, in get_code\n",
      "  File \"<frozen importlib._bootstrap_external>\", line 741, in source_to_code\n",
      "  File \"<frozen importlib._bootstrap>\", line 219, in _call_with_frames_removed\n",
      "  File \"/home/sandra/trackanalysis/analyses/beadquality.py\", line 306\n",
      "    %%output size = 300\n",
      "    ^\n",
      "SyntaxError: invalid syntax\n",
      "]\n"
     ]
    }
   ],
   "source": [
    "#import scripting\n",
    "import sys\n",
    "sys.path.insert(0, \"../build\")\n",
    "from scripting import *\n",
    "\n",
    "import beadquality as bq\n",
    "#import pandas as pd"
   ]
  },
  {
   "cell_type": "code",
   "execution_count": 2,
   "metadata": {},
   "outputs": [],
   "source": [
    "#Load the track, put the path of the track file\n",
    "#track = Track(\"/media/sandra/sirius/Andreas/ssHP6_Sequencing_20171220/AGC_1nM/Test_022_043_AGC_1nM_OR3_20nM_ssHP6_FOV1.trk\") #, match=\".*_043_(\\w\\w\\w)_.*\")\n",
    "track = Track(\"../../Documents/local_test_data/tests/ssHP6_Sequencing_20171220/AGC_3nM/Test_022_043_AGC_3nM_OR3_20nM_ssHP6_FOV1.trk\")\n",
    "#track = Track(\"/media/sandra/sirius/Andreas/ssHP6_Sequencing_20171220/AGC_1nM/Test_022_043_AGC_1nM_OR3_20nM_ssHP6_FOV1.trk\")"
   ]
  },
  {
   "cell_type": "code",
   "execution_count": 3,
   "metadata": {},
   "outputs": [],
   "source": [
    "track.key = 'AGC'"
   ]
  },
  {
   "cell_type": "code",
   "execution_count": 4,
   "metadata": {},
   "outputs": [],
   "source": [
    "#Load the tracks, put the path of the data folder\n",
    "#We can load .trk or .pk\n",
    "#tracks = TracksDict(\"../../Documents/local_test_data/ssHP6_Sequencing_20171220//*.pk\")\n",
    "tracks = TracksDict(\"../../Documents/local_test_data/tests/ssHP6_Sequencing_20171220/*/*.trk\", match=\".*_043_(\\w\\w\\w)_.*\")\n",
    "\n",
    "\n",
    "#the chronological order can be extracted from the .trk files\n",
    "tracks_original = TracksDict(\"/media/sandra/sirius/Andreas/ssHP6_Sequencing_20171220/*/*.trk\", match=\".*_043_(\\w\\w\\w)_.*\")"
   ]
  },
  {
   "cell_type": "code",
   "execution_count": 5,
   "metadata": {},
   "outputs": [],
   "source": [
    "resume = bq.resumeTracksQuality(tracks)"
   ]
  },
  {
   "cell_type": "code",
   "execution_count": 6,
   "metadata": {},
   "outputs": [],
   "source": [
    "resume_single= bq.resumeTracksQuality(track)\n"
   ]
  },
  {
   "cell_type": "code",
   "execution_count": 7,
   "metadata": {},
   "outputs": [
    {
     "data": {
      "text/html": [
       "<div>\n",
       "<style scoped>\n",
       "    .dataframe tbody tr th:only-of-type {\n",
       "        vertical-align: middle;\n",
       "    }\n",
       "\n",
       "    .dataframe tbody tr th {\n",
       "        vertical-align: top;\n",
       "    }\n",
       "\n",
       "    .dataframe thead th {\n",
       "        text-align: right;\n",
       "    }\n",
       "</style>\n",
       "<table border=\"1\" class=\"dataframe\">\n",
       "  <thead>\n",
       "    <tr style=\"text-align: right;\">\n",
       "      <th></th>\n",
       "      <th>Good</th>\n",
       "      <th>Bad</th>\n",
       "      <th>Total</th>\n",
       "    </tr>\n",
       "    <tr>\n",
       "      <th>Track</th>\n",
       "      <th></th>\n",
       "      <th></th>\n",
       "      <th></th>\n",
       "    </tr>\n",
       "  </thead>\n",
       "  <tbody>\n",
       "    <tr>\n",
       "      <th>GCA</th>\n",
       "      <td>39</td>\n",
       "      <td>70</td>\n",
       "      <td>109</td>\n",
       "    </tr>\n",
       "    <tr>\n",
       "      <th>GTG</th>\n",
       "      <td>42</td>\n",
       "      <td>67</td>\n",
       "      <td>109</td>\n",
       "    </tr>\n",
       "    <tr>\n",
       "      <th>GGA</th>\n",
       "      <td>45</td>\n",
       "      <td>64</td>\n",
       "      <td>109</td>\n",
       "    </tr>\n",
       "    <tr>\n",
       "      <th>CGT</th>\n",
       "      <td>50</td>\n",
       "      <td>59</td>\n",
       "      <td>109</td>\n",
       "    </tr>\n",
       "    <tr>\n",
       "      <th>CAG</th>\n",
       "      <td>52</td>\n",
       "      <td>57</td>\n",
       "      <td>109</td>\n",
       "    </tr>\n",
       "    <tr>\n",
       "      <th>TGA</th>\n",
       "      <td>28</td>\n",
       "      <td>81</td>\n",
       "      <td>109</td>\n",
       "    </tr>\n",
       "    <tr>\n",
       "      <th>GGT</th>\n",
       "      <td>42</td>\n",
       "      <td>67</td>\n",
       "      <td>109</td>\n",
       "    </tr>\n",
       "    <tr>\n",
       "      <th>OR3</th>\n",
       "      <td>61</td>\n",
       "      <td>48</td>\n",
       "      <td>109</td>\n",
       "    </tr>\n",
       "    <tr>\n",
       "      <th>GAG</th>\n",
       "      <td>48</td>\n",
       "      <td>61</td>\n",
       "      <td>109</td>\n",
       "    </tr>\n",
       "    <tr>\n",
       "      <th>TCA</th>\n",
       "      <td>40</td>\n",
       "      <td>69</td>\n",
       "      <td>109</td>\n",
       "    </tr>\n",
       "    <tr>\n",
       "      <th>TGG</th>\n",
       "      <td>28</td>\n",
       "      <td>81</td>\n",
       "      <td>109</td>\n",
       "    </tr>\n",
       "    <tr>\n",
       "      <th>GTC</th>\n",
       "      <td>51</td>\n",
       "      <td>58</td>\n",
       "      <td>109</td>\n",
       "    </tr>\n",
       "    <tr>\n",
       "      <th>AGC</th>\n",
       "      <td>51</td>\n",
       "      <td>58</td>\n",
       "      <td>109</td>\n",
       "    </tr>\n",
       "    <tr>\n",
       "      <th>GCG</th>\n",
       "      <td>45</td>\n",
       "      <td>64</td>\n",
       "      <td>109</td>\n",
       "    </tr>\n",
       "    <tr>\n",
       "      <th>CGG</th>\n",
       "      <td>53</td>\n",
       "      <td>56</td>\n",
       "      <td>109</td>\n",
       "    </tr>\n",
       "    <tr>\n",
       "      <th>TCG</th>\n",
       "      <td>40</td>\n",
       "      <td>69</td>\n",
       "      <td>109</td>\n",
       "    </tr>\n",
       "    <tr>\n",
       "      <th>GGC</th>\n",
       "      <td>30</td>\n",
       "      <td>79</td>\n",
       "      <td>109</td>\n",
       "    </tr>\n",
       "    <tr>\n",
       "      <th>AGG</th>\n",
       "      <td>58</td>\n",
       "      <td>51</td>\n",
       "      <td>109</td>\n",
       "    </tr>\n",
       "  </tbody>\n",
       "</table>\n",
       "</div>"
      ],
      "text/plain": [
       "       Good  Bad  Total\n",
       "Track                  \n",
       "GCA      39   70    109\n",
       "GTG      42   67    109\n",
       "GGA      45   64    109\n",
       "CGT      50   59    109\n",
       "CAG      52   57    109\n",
       "TGA      28   81    109\n",
       "GGT      42   67    109\n",
       "OR3      61   48    109\n",
       "GAG      48   61    109\n",
       "TCA      40   69    109\n",
       "TGG      28   81    109\n",
       "GTC      51   58    109\n",
       "AGC      51   58    109\n",
       "GCG      45   64    109\n",
       "CGG      53   56    109\n",
       "TCG      40   69    109\n",
       "GGC      30   79    109\n",
       "AGG      58   51    109"
      ]
     },
     "execution_count": 7,
     "metadata": {},
     "output_type": "execute_result"
    }
   ],
   "source": [
    "resume"
   ]
  },
  {
   "cell_type": "code",
   "execution_count": 8,
   "metadata": {},
   "outputs": [],
   "source": [
    "df_dfGoodBadBeads = bq.dfGoodBadBeads(tracks)"
   ]
  },
  {
   "cell_type": "code",
   "execution_count": 9,
   "metadata": {},
   "outputs": [],
   "source": [
    "df_dfGoodBadBeads_single = bq.dfGoodBadBeads(track)"
   ]
  },
  {
   "cell_type": "code",
   "execution_count": 10,
   "metadata": {},
   "outputs": [],
   "source": [
    "#Assign variables order for tracks and beads\n",
    "order_tracks_best_single = [str(track.key)]\n",
    "order_tracks_chrono_single = list(df_dfGoodBadBeads_single.set_index('bead').columns.values)\n",
    "\n",
    "order_tracks_chrono = list(tracks_original.dataframe().set_index('key').sort_values(by='modification').index.values)\n",
    "order_tracks_best = list(df_dfGoodBadBeads.set_index('bead').columns.values)\n",
    "\n",
    "order_beads_normal_single = list(track.beadsonly.keys()) \n",
    "order_beads_best_single = list(df_dfGoodBadBeads_single['bead'].values)\n",
    "\n",
    "order_beads_normal = tracks.availablebeads()\n",
    "order_beads_best = list(df_dfGoodBadBeads['bead'].values)"
   ]
  },
  {
   "cell_type": "code",
   "execution_count": 11,
   "metadata": {},
   "outputs": [],
   "source": [
    "df_resumeBeadsQuality_single = bq.resumeBeadsQuality(track)"
   ]
  },
  {
   "cell_type": "code",
   "execution_count": 12,
   "metadata": {},
   "outputs": [],
   "source": [
    "df_typeError_single = bq.typeError(df_resumeBeadsQuality_single,order_beads_best_single,order_tracks_chrono_single)\n"
   ]
  },
  {
   "cell_type": "code",
   "execution_count": 39,
   "metadata": {},
   "outputs": [
    {
     "data": {
      "image/png": "[encoded data removed]",
      "text/plain": [
       "<matplotlib.figure.Figure at 0x7f023995b320>"
      ]
     },
     "metadata": {},
     "output_type": "display_data"
    }
   ],
   "source": [
    "bq.barBeadsByType(df_typeError_single,order_tracks_chrono_single)\n",
    "plt.show()"
   ]
  },
  {
   "cell_type": "code",
   "execution_count": 42,
   "metadata": {},
   "outputs": [],
   "source": [
    "dfmsg_single= bq.dfCleaningMessages(track,order_beads_normal_single)"
   ]
  },
  {
   "cell_type": "code",
   "execution_count": null,
   "metadata": {},
   "outputs": [],
   "source": []
  }
 ],
 "metadata": {
  "kernelspec": {
   "display_name": "Python 3",
   "language": "python",
   "name": "python3"
  },
  "language_info": {
   "codemirror_mode": {
    "name": "ipython",
    "version": 3
   },
   "file_extension": ".py",
   "mimetype": "text/x-python",
   "name": "python",
   "nbconvert_exporter": "python",
   "pygments_lexer": "ipython3",
   "version": "3.6.4"
  },
  "toc": {
   "nav_menu": {},
   "number_sections": true,
   "sideBar": true,
   "skip_h1_title": false,
   "toc_cell": false,
   "toc_position": {},
   "toc_section_display": "block",
   "toc_window_display": false
  }
 },
 "nbformat": 4,
 "nbformat_minor": 2
}
