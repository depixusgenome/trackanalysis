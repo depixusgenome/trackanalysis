{
 "cells": [
  {
   "cell_type": "markdown",
   "metadata": {},
   "source": [
    "# This jupyter notebook...\n",
    "This is a help to the quality assessment of the beads of an experiment\n",
    "\n",
    "## Precision\n",
    "Please note that for the detection of `missing` and `fixed` we have used several criteria based on the detected errors per bead. \n",
    "\n",
    "We observed from the analysis over 2 data sets of sequencing experiments that the criteria to detect *fixed beads* is precise at around 98%. This means that, for 100% of detected fixed beads, around 98% present the characteristic behavior of the missing beads, observable on the plot of the cycles of the bead. \n",
    "For the *missing beads*, the precision is about 80%. This means that, for 100% of detected missing beads, around 80% of them are missing on the field of view. \n",
    "\n",
    "## Bead Status\n",
    "We will define the `status` of the bead mainly by the fact that the bead can be:\n",
    "* `missing`\n",
    "* `fixed`\n",
    "* present one or more errors `errors>=1`\n",
    "* not present errors at all `noErrors`\n",
    "\n",
    "Note that a bead that does not present errors **is not** automatically a useful bead. \n",
    "\n",
    "# How to use it ?\n",
    "Copy this jupyter notebook and then type the path of your files and then execute the cells to get information about the quality of the beads for your experiment.\n"
   ]
  },
  {
   "cell_type": "code",
   "execution_count": null,
   "metadata": {},
   "outputs": [],
   "source": [
    "#import scripting\n",
    "import sys\n",
    "sys.path.insert(0, \"../build\")\n",
    "from scripting import *\n",
    "\n",
    "import beadquality as bq\n",
    "#import pandas as pd"
   ]
  },
  {
   "cell_type": "markdown",
   "metadata": {},
   "source": [
    "We can see what are the bounds set by default for the `cleaning` module of trackanalysis. These values will be used in the quality analysis."
   ]
  },
  {
   "cell_type": "code",
   "execution_count": null,
   "metadata": {},
   "outputs": [],
   "source": [
    "Tasks.cleaning().__dict__"
   ]
  },
  {
   "cell_type": "markdown",
   "metadata": {},
   "source": [
    "## Path\n",
    "Put the path of your file in the next cell"
   ]
  },
  {
   "cell_type": "code",
   "execution_count": null,
   "metadata": {},
   "outputs": [],
   "source": [
    "#Load the tracks, put the path of the data folder\n",
    "tracks = TracksDict(\"../../Documents/local_test_data/tests/ssHP6_Sequencing_20171220/*/*.trk\", match=\".*_043_(\\w\\w\\w)_.*\")\n"
   ]
  },
  {
   "cell_type": "markdown",
   "metadata": {},
   "source": [
    "## Summary Table \n",
    "A summary table of number of **fixed**, **missing** and **not fixed/missing** beads for each of the tracks in your experiments.\n",
    "\n",
    "A plot presenting the evolution of the number of **fixed**, **missing** and **not fixed/missing** beads."
   ]
  },
  {
   "cell_type": "code",
   "execution_count": null,
   "metadata": {},
   "outputs": [],
   "source": [
    "dfmsg = tracks.cleaning.messages().reset_index()"
   ]
  },
  {
   "cell_type": "code",
   "execution_count": null,
   "metadata": {},
   "outputs": [],
   "source": [
    "resume = bq.resume_tracks_quality(tracks, dfmsg)\n",
    "resume.table"
   ]
  },
  {
   "cell_type": "code",
   "execution_count": null,
   "metadata": {
    "code_folding": [
     0
    ]
   },
   "outputs": [],
   "source": [
    "%%output backend='bokeh'\n",
    "%%opts Points[tools=['hover'], show_grid=True] (marker='o' size=5)\n",
    "%%opts Points.ok (color='blue')\n",
    "%%opts Curve.ok (color='blue')\n",
    "%%opts Points.fixed (color='orange')\n",
    "%%opts Curve.fixed (color='orange')\n",
    "%%opts Points.missing (color='red')\n",
    "%%opts Curve.missing (color='red',line_dash='dashed')\n",
    "\n",
    "bq.evolution_missing_fixed(resume.table,tracks)"
   ]
  },
  {
   "cell_type": "markdown",
   "metadata": {},
   "source": [
    "## Summary of beads by Status\n",
    "A heat map representing the percentage of beads by their status, per track. Use the attribute `table` to get a table that you can copy/paste in another document"
   ]
  },
  {
   "cell_type": "code",
   "execution_count": null,
   "metadata": {
    "code_folding": []
   },
   "outputs": [],
   "source": [
    "order_tracks_chrono = pd.Series(list(tracks.dataframe().set_index('key').sort_values(by='modification').index.values))\n"
   ]
  },
  {
   "cell_type": "code",
   "execution_count": null,
   "metadata": {},
   "outputs": [],
   "source": [
    "df_resumeBeadsQuality = bq.resume_bead_quality(tracks, dfmsg, resume.status, order_tracks_chrono)\n"
   ]
  },
  {
   "cell_type": "code",
   "execution_count": null,
   "metadata": {},
   "outputs": [],
   "source": [
    "tracks_status = bq.heatmap_tracks_status(df_resumeBeadsQuality.res,order_tracks_chrono,pc=False,order='chrono')\n",
    "plt.show()"
   ]
  },
  {
   "cell_type": "code",
   "execution_count": null,
   "metadata": {},
   "outputs": [],
   "source": [
    "tracks_status.table"
   ]
  },
  {
   "cell_type": "markdown",
   "metadata": {},
   "source": [
    "## Bead Status per track\n",
    "A detailed plot of bead per track showing its status"
   ]
  },
  {
   "cell_type": "code",
   "execution_count": null,
   "metadata": {
    "scrolled": false
   },
   "outputs": [],
   "source": [
    "plot = bq.heatmap_status(df_resumeBeadsQuality.res,order_tracks_chrono.values, bq.order_bead_best(df_resumeBeadsQuality))\n",
    "from bokeh.io import show\n",
    "show(plot)"
   ]
  },
  {
   "cell_type": "markdown",
   "metadata": {},
   "source": [
    "## Flow by Status from initial to final track\n",
    "A flow chart showing the evolution of the status of the beads from one track to another (by default from first to last track)"
   ]
  },
  {
   "cell_type": "code",
   "execution_count": null,
   "metadata": {},
   "outputs": [],
   "source": [
    "df_typeError = bq.typeError(df_resumeBeadsQuality,tracks.availablebeads(),order_tracks_chrono)\n",
    "flow_diagram = bq.flowBeads(df_typeError,first_track=None, last_track=None)\n",
    "flow_diagram.show()"
   ]
  },
  {
   "cell_type": "code",
   "execution_count": null,
   "metadata": {},
   "outputs": [],
   "source": []
  },
  {
   "cell_type": "code",
   "execution_count": null,
   "metadata": {},
   "outputs": [],
   "source": []
  }
 ],
 "metadata": {
  "kernelspec": {
   "display_name": "Python 3",
   "language": "python",
   "name": "python3"
  },
  "language_info": {
   "codemirror_mode": {
    "name": "ipython",
    "version": 3
   },
   "file_extension": ".py",
   "mimetype": "text/x-python",
   "name": "python",
   "nbconvert_exporter": "python",
   "pygments_lexer": "ipython3",
   "version": "3.6.4"
  },
  "toc": {
   "nav_menu": {},
   "number_sections": true,
   "sideBar": true,
   "skip_h1_title": false,
   "toc_cell": false,
   "toc_position": {},
   "toc_section_display": "block",
   "toc_window_display": false
  }
 },
 "nbformat": 4,
 "nbformat_minor": 2
}
