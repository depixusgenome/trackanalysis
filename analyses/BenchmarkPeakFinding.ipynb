{
 "cells": [
  {
   "cell_type": "code",
   "execution_count": null,
   "metadata": {
    "code_folding": []
   },
   "outputs": [],
   "source": [
    "from trackanalysis import *\n",
    "from simulator.benchmark import PeakBenchmarkJob\n",
    "from peakfinding.processor.projection import PeakProjectorTask\n",
    "Tasks.tasksmodel().instrument = 'sdi'"
   ]
  },
  {
   "cell_type": "code",
   "execution_count": null,
   "metadata": {
    "code_folding": [
     0
    ]
   },
   "outputs": [],
   "source": [
    "# Launch clusters on friedrich\n",
    "# 1. add the .ssh/config file with:\n",
    "#     \"\"\"\n",
    "#     Host friedrich\n",
    "#        HostName friedrich\n",
    "#        User depixus\n",
    "#     \"\"\"\n",
    "# 2. execute:\n",
    "#     \"\"\"\n",
    "#     ssh depixus@friedrich\n",
    "#     cd /home/depixus/trackanalysis/build\n",
    "#     ipcluster start -n 7\n",
    "#     \"\"\"\n",
    "# 3. exectute the current cell\n",
    "%sx scp depixus@friedrich:/home/depixus/.ipython/profile_default/security/ipcontroller-client.json /tmp/ipcontroller-client.json\n",
    "import ipyparallel as ipp\n",
    "client = ipp.Client(\"/tmp/ipcontroller-client.json\", sshserver = \"depixus@friedrich\")\n",
    "dv     = client[:]"
   ]
  },
  {
   "cell_type": "code",
   "execution_count": null,
   "metadata": {
    "code_folding": [
     0
    ]
   },
   "outputs": [],
   "source": [
    "def _createdata(baseline = 1e-3, configs = None):\n",
    "    dv.block = True\n",
    "    job = PeakBenchmarkJob()\n",
    "    job.experiment.nbindings = range(5, 20)\n",
    "    job.experiment.template.thermaldrift   = None\n",
    "    job.experiment.template.brownianmotion = 1e-3\n",
    "    job.experiment.template.baseline.sigma = baseline\n",
    "    if configs is None:\n",
    "        job.configurations = {\n",
    "            \"classic\":   [Tasks.cleaning(), Tasks.alignment(), Tasks.eventdetection(), Tasks.peakselector()],\n",
    "            \"histogram\": [Tasks.cleaning(), Tasks.alignment(), PeakProjectorTask()]\n",
    "        }\n",
    "    else:\n",
    "        job.configurations = configs\n",
    "    job.nbeads = 10\n",
    "    \n",
    "    dv['job'] = job\n",
    "    items = dv.apply(lambda: job.run(40))\n",
    "    for i, j in enumerate(items):\n",
    "        j['pid'] = np.ones(len(j), dtype = 'i4')*i\n",
    "    data = pd.concat(items)\n",
    "    data['dist'] = np.abs(data.z-data.truez)\n",
    "    return data\n",
    "%time DATA_B05 = _createdata(.5e-3)\n",
    "%time DATA_B1 = _createdata()\n",
    "%time DATA_B2 = _createdata(2e-3)\n",
    "\n",
    "DATA_B05.config.replace({i: \"B05_\"+i.split(\"_\")[-1] for i in DATA_B05.config.unique()}, inplace = True)\n",
    "DATA_B05['baseline'] = .5e-3\n",
    "DATA_B1.config.replace({i: \"B1_\"+i.split(\"_\")[-1] for i in DATA_B1.config.unique()}, inplace = True)\n",
    "DATA_B1['baseline'] = 1e-3\n",
    "DATA_B2.config.replace({i: \"B2_\"+i.split(\"_\")[-1] for i in DATA_B2.config.unique()}, inplace = True)\n",
    "DATA_B2['baseline'] = 2e-3\n",
    "DATA = pd.concat([DATA_B05, DATA_B1, DATA_B2])"
   ]
  },
  {
   "cell_type": "code",
   "execution_count": null,
   "metadata": {},
   "outputs": [],
   "source": [
    "out = pd.pivot_table(DATA[DATA.peaktype != \"base\"], index = \"config\", columns = \"peaktype\", aggfunc = \"count\", values = \"bead\").fillna(0)\n",
    "wgt = 1./DATA[DATA.peaktype != \"base\"].groupby(\"config\").bead.count()\n",
    "for i in out:\n",
    "    out[i] *= wgt\n",
    "out.rename(columns = {\"base\": \"baseline\", \"bind\": \"TP\"}).style.format(\"{:.1%}\")"
   ]
  },
  {
   "cell_type": "code",
   "execution_count": null,
   "metadata": {
    "code_folding": [
     0
    ]
   },
   "outputs": [],
   "source": [
    "def _hist(data, name, **kwa):\n",
    "    def _build(tpe):\n",
    "        out  = data[(data.config ==tpe) & (data.peaktype == \"bind\")][name]\n",
    "        vals = np.histogram(out.dropna(), weights = np.ones(len(out), dtype = 'f4')*100./len(out), **kwa)\n",
    "        xv   = vals[1][1:]*.5+vals[1][:-1]*.5\n",
    "        yv   = vals[0].cumsum()\n",
    "        return (\n",
    "            hv.Curve((xv, vals[0]), label = tpe, group = \"ratio\").options(line_dash= \"dashed\")\n",
    "            *hv.Curve((xv, yv), group = \"sum\", label = tpe+\": cumsum\")\n",
    "        ).redim(x = name, y = hv.Dimension(\"cnt\", label = \"% count\"))\n",
    "    return (\n",
    "        hv.NdOverlay({i: _build(i) for i in data.config.unique()})\n",
    "        .redim(dist= \"Z precision\").redim.range(cnt = (0, 100))\n",
    "        .options(show_grid = True)\n",
    "    )\n",
    "\n",
    "_hist(DATA, \"dist\", bins = np.linspace(0, 4e-3, 20), normed= False)"
   ]
  },
  {
   "cell_type": "code",
   "execution_count": null,
   "metadata": {},
   "outputs": [],
   "source": [
    "(\n",
    "    DATA\n",
    "    .groupby([\"pid\", \"run\", \"track\", \"bead\", \"config\"])\n",
    "    .first().reset_index()\n",
    "    .groupby(\"config\")\n",
    "    .agg({\"clock\": [\"mean\", \"std\"]})\n",
    "    .style.format(\"{:.3f} s\")\n",
    ")"
   ]
  },
  {
   "cell_type": "code",
   "execution_count": null,
   "metadata": {
    "code_folding": [
     0,
     21,
     22,
     27
    ]
   },
   "outputs": [],
   "source": [
    "def _hist(data, name, **kwa):\n",
    "    def _build(tpe):\n",
    "        out = data[(data.config ==tpe)]\n",
    "        h1 = np.histogram(out[~out.z.isna()][name].dropna(), **kwa)\n",
    "        h2 = np.histogram(out[name].dropna(), **kwa)\n",
    "        ratio = h1[0].astype('f4')\n",
    "        ratio[h2[0] > 0] /= h2[0][h2[0]>0]\n",
    "        ratio = ratio[h2[0] > 0]*100\n",
    "        xv    = ((h1[1][:-1]+h1[1][1:])*.5)[h2[0] > 0]\n",
    "        err   = 1./(np.sqrt(h2[0])[h2[0] > 0])*100\n",
    "        errinf = np.copy(err)\n",
    "        errinf[err>ratio] = ratio[err>ratio]\n",
    "        errsup = np.copy(err)\n",
    "        errinf[(err+ratio)>100] = (100-ratio)[(err+ratio)>100]\n",
    "        out   = list(zip(xv, ratio, errinf, errsup))\n",
    "        return (\n",
    "            hv.Curve(out, label = tpe)\n",
    "            *hv.ErrorBars(out)\n",
    "        ).redim(y = \"% found\", x = name)\n",
    "    return hv.NdOverlay({i: _build(i) for i in data.config.unique()})\n",
    "\n",
    "hv.NdLayout({\n",
    "    j: (\n",
    "        _hist(DATA, i, normed = False, bins = k)\n",
    "        .redim.label(**{i:j})\n",
    "        .options(show_grid = True)\n",
    "    )\n",
    "    for i, j, k in (\n",
    "        ('delta', \"Distance to another binding position\", np.linspace(0., 2e-2, 20)),\n",
    "        ('truet', \"Hybridisation time\", np.linspace(1./30., 30/30., 31)),\n",
    "        ('truer', \"Hybridization rate\", np.linspace(0.01, .13, 20)),\n",
    "    )\n",
    "}).cols(1)"
   ]
  }
 ],
 "metadata": {
  "@webio": {
   "lastCommId": "C4313931FC3C4D5395E95B0FE18D832B",
   "lastKernelId": "11a1b692-3d1e-44f3-a99b-32e586446063"
  },
  "hide_input": false,
  "kernelspec": {
   "display_name": "Python 3",
   "language": "python",
   "name": "python3"
  },
  "language_info": {
   "codemirror_mode": {
    "name": "ipython",
    "version": 3
   },
   "file_extension": ".py",
   "mimetype": "text/x-python",
   "name": "python",
   "nbconvert_exporter": "python",
   "pygments_lexer": "ipython3",
   "version": "3.6.5"
  }
 },
 "nbformat": 4,
 "nbformat_minor": 2
}
