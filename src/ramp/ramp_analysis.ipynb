{
 "cells": [
  {
   "cell_type": "markdown",
   "metadata": {},
   "source": [
    "* will add distribution of zmag_close and zmag_open (distribution over all beads, all cycles) -> look at datatable to show quantiles\n",
    "* finish implementing fixed beads\n",
    "* rewrite ramp.py library"
   ]
  },
  {
   "cell_type": "code",
   "execution_count": 4,
   "metadata": {
    "collapsed": false
   },
   "outputs": [
    {
     "data": {
      "text/html": [
       "\n",
       "    <div class=\"bk-root\">\n",
       "        <a href=\"http://bokeh.pydata.org\" target=\"_blank\" class=\"bk-logo bk-logo-small bk-logo-notebook\"></a>\n",
       "        <span id=\"e91197a9-9809-4c19-b192-845e1034a700\">Loading BokehJS ...</span>\n",
       "    </div>"
      ]
     },
     "metadata": {},
     "output_type": "display_data"
    },
    {
     "data": {
      "application/javascript": [
       "\n",
       "(function(global) {\n",
       "  function now() {\n",
       "    return new Date();\n",
       "  }\n",
       "\n",
       "  var force = \"1\";\n",
       "\n",
       "  if (typeof (window._bokeh_onload_callbacks) === \"undefined\" || force !== \"\") {\n",
       "    window._bokeh_onload_callbacks = [];\n",
       "    window._bokeh_is_loading = undefined;\n",
       "  }\n",
       "\n",
       "\n",
       "  \n",
       "  if (typeof (window._bokeh_timeout) === \"undefined\" || force !== \"\") {\n",
       "    window._bokeh_timeout = Date.now() + 5000;\n",
       "    window._bokeh_failed_load = false;\n",
       "  }\n",
       "\n",
       "  var NB_LOAD_WARNING = {'data': {'text/html':\n",
       "     \"<div style='background-color: #fdd'>\\n\"+\n",
       "     \"<p>\\n\"+\n",
       "     \"BokehJS does not appear to have successfully loaded. If loading BokehJS from CDN, this \\n\"+\n",
       "     \"may be due to a slow or bad network connection. Possible fixes:\\n\"+\n",
       "     \"</p>\\n\"+\n",
       "     \"<ul>\\n\"+\n",
       "     \"<li>re-rerun `output_notebook()` to attempt to load from CDN again, or</li>\\n\"+\n",
       "     \"<li>use INLINE resources instead, as so:</li>\\n\"+\n",
       "     \"</ul>\\n\"+\n",
       "     \"<code>\\n\"+\n",
       "     \"from bokeh.resources import INLINE\\n\"+\n",
       "     \"output_notebook(resources=INLINE)\\n\"+\n",
       "     \"</code>\\n\"+\n",
       "     \"</div>\"}};\n",
       "\n",
       "  function display_loaded() {\n",
       "    if (window.Bokeh !== undefined) {\n",
       "      Bokeh.$(\"#e91197a9-9809-4c19-b192-845e1034a700\").text(\"BokehJS successfully loaded.\");\n",
       "    } else if (Date.now() < window._bokeh_timeout) {\n",
       "      setTimeout(display_loaded, 100)\n",
       "    }\n",
       "  }\n",
       "\n",
       "  function run_callbacks() {\n",
       "    window._bokeh_onload_callbacks.forEach(function(callback) { callback() });\n",
       "    delete window._bokeh_onload_callbacks\n",
       "    console.info(\"Bokeh: all callbacks have finished\");\n",
       "  }\n",
       "\n",
       "  function load_libs(js_urls, callback) {\n",
       "    window._bokeh_onload_callbacks.push(callback);\n",
       "    if (window._bokeh_is_loading > 0) {\n",
       "      console.log(\"Bokeh: BokehJS is being loaded, scheduling callback at\", now());\n",
       "      return null;\n",
       "    }\n",
       "    if (js_urls == null || js_urls.length === 0) {\n",
       "      run_callbacks();\n",
       "      return null;\n",
       "    }\n",
       "    console.log(\"Bokeh: BokehJS not loaded, scheduling load and callback at\", now());\n",
       "    window._bokeh_is_loading = js_urls.length;\n",
       "    for (var i = 0; i < js_urls.length; i++) {\n",
       "      var url = js_urls[i];\n",
       "      var s = document.createElement('script');\n",
       "      s.src = url;\n",
       "      s.async = false;\n",
       "      s.onreadystatechange = s.onload = function() {\n",
       "        window._bokeh_is_loading--;\n",
       "        if (window._bokeh_is_loading === 0) {\n",
       "          console.log(\"Bokeh: all BokehJS libraries loaded\");\n",
       "          run_callbacks()\n",
       "        }\n",
       "      };\n",
       "      s.onerror = function() {\n",
       "        console.warn(\"failed to load library \" + url);\n",
       "      };\n",
       "      console.log(\"Bokeh: injecting script tag for BokehJS library: \", url);\n",
       "      document.getElementsByTagName(\"head\")[0].appendChild(s);\n",
       "    }\n",
       "  };var element = document.getElementById(\"e91197a9-9809-4c19-b192-845e1034a700\");\n",
       "  if (element == null) {\n",
       "    console.log(\"Bokeh: ERROR: autoload.js configured with elementid 'e91197a9-9809-4c19-b192-845e1034a700' but no matching script tag was found. \")\n",
       "    return false;\n",
       "  }\n",
       "\n",
       "  var js_urls = ['https://cdn.pydata.org/bokeh/release/bokeh-0.12.3.min.js', 'https://cdn.pydata.org/bokeh/release/bokeh-widgets-0.12.3.min.js'];\n",
       "\n",
       "  var inline_js = [\n",
       "    function(Bokeh) {\n",
       "      Bokeh.set_log_level(\"info\");\n",
       "    },\n",
       "    \n",
       "    function(Bokeh) {\n",
       "      \n",
       "      Bokeh.$(\"#e91197a9-9809-4c19-b192-845e1034a700\").text(\"BokehJS is loading...\");\n",
       "    },\n",
       "    function(Bokeh) {\n",
       "      console.log(\"Bokeh: injecting CSS: https://cdn.pydata.org/bokeh/release/bokeh-0.12.3.min.css\");\n",
       "      Bokeh.embed.inject_css(\"https://cdn.pydata.org/bokeh/release/bokeh-0.12.3.min.css\");\n",
       "      console.log(\"Bokeh: injecting CSS: https://cdn.pydata.org/bokeh/release/bokeh-widgets-0.12.3.min.css\");\n",
       "      Bokeh.embed.inject_css(\"https://cdn.pydata.org/bokeh/release/bokeh-widgets-0.12.3.min.css\");\n",
       "    }\n",
       "  ];\n",
       "\n",
       "  function run_inline_js() {\n",
       "    \n",
       "    if ((window.Bokeh !== undefined) || (force === \"1\")) {\n",
       "      for (var i = 0; i < inline_js.length; i++) {\n",
       "        inline_js[i](window.Bokeh);\n",
       "      }if (force === \"1\") {\n",
       "        display_loaded();\n",
       "      }} else if (Date.now() < window._bokeh_timeout) {\n",
       "      setTimeout(run_inline_js, 100);\n",
       "    } else if (!window._bokeh_failed_load) {\n",
       "      console.log(\"Bokeh: BokehJS failed to load within specified timeout.\");\n",
       "      window._bokeh_failed_load = true;\n",
       "    } else if (!force) {\n",
       "      var cell = $(\"#e91197a9-9809-4c19-b192-845e1034a700\").parents('.cell').data().cell;\n",
       "      cell.output_area.append_execute_result(NB_LOAD_WARNING)\n",
       "    }\n",
       "\n",
       "  }\n",
       "\n",
       "  if (window._bokeh_is_loading === 0) {\n",
       "    console.log(\"Bokeh: BokehJS loaded, going straight to plotting\");\n",
       "    run_inline_js();\n",
       "  } else {\n",
       "    load_libs(js_urls, function() {\n",
       "      console.log(\"Bokeh: BokehJS plotting callback run at\", now());\n",
       "      run_inline_js();\n",
       "    });\n",
       "  }\n",
       "}(this));"
      ]
     },
     "metadata": {},
     "output_type": "display_data"
    }
   ],
   "source": [
    "import data\n",
    "%run ramp.py\n",
    "import bokeh.plotting\n",
    "from bokeh.io import output_notebook, show, push_notebook\n",
    "from bokeh.models import *\n",
    "output_notebook()\n"
   ]
  },
  {
   "cell_type": "code",
   "execution_count": 6,
   "metadata": {
    "collapsed": false
   },
   "outputs": [],
   "source": [
    "# Please use this cell to give me necessary information \n",
    "track_file=\"/media/data/helicon/remi/2016-11-08/ramp_5HPs_mix.trk\""
   ]
  },
  {
   "cell_type": "code",
   "execution_count": 7,
   "metadata": {
    "collapsed": false
   },
   "outputs": [
    {
     "name": "stdout",
     "output_type": "stream",
     "text": [
      "{2, 3, 6, 7, 8, 10, 13, 14, 23, 24, 25, 26, 27, 28, 29, 33, 35, 37, 38, 39, 41, 42, 43, 45, 47, 49, 50, 51, 52}\n",
      "13\n"
     ]
    }
   ],
   "source": [
    "track=data.Track(path=track_file)\n",
    "mod=RampModel()\n",
    "mod.needsCleaning = True\n",
    "ramp=RampControler.fromTrack(track,mod)\n",
    "print(ramp.beads)\n",
    "print(ramp.ncycles)"
   ]
  },
  {
   "cell_type": "code",
   "execution_count": 8,
   "metadata": {
    "collapsed": false
   },
   "outputs": [
    {
     "ename": "NameError",
     "evalue": "name 'plot_stillclosed_at_zmag' is not defined",
     "output_type": "error",
     "traceback": [
      "\u001b[0;31m---------------------------------------------------------------------------\u001b[0m",
      "\u001b[0;31mNameError\u001b[0m                                 Traceback (most recent call last)",
      "\u001b[0;32m<ipython-input-8-dcdb13801582>\u001b[0m in \u001b[0;36m<module>\u001b[0;34m()\u001b[0m\n\u001b[0;32m----> 1\u001b[0;31m \u001b[0mfig\u001b[0m\u001b[0;34m=\u001b[0m\u001b[0mplot_stillclosed_at_zmag\u001b[0m\u001b[0;34m(\u001b[0m\u001b[0mdf\u001b[0m\u001b[0;34m,\u001b[0m\u001b[0mdz\u001b[0m\u001b[0;34m)\u001b[0m\u001b[0;34m\u001b[0m\u001b[0m\n\u001b[0m\u001b[1;32m      2\u001b[0m \u001b[0mshow\u001b[0m\u001b[0;34m(\u001b[0m\u001b[0mfig\u001b[0m\u001b[0;34m,\u001b[0m\u001b[0mnotebook_handle\u001b[0m\u001b[0;34m=\u001b[0m\u001b[0;32mTrue\u001b[0m\u001b[0;34m)\u001b[0m\u001b[0;34m\u001b[0m\u001b[0m\n",
      "\u001b[0;31mNameError\u001b[0m: name 'plot_stillclosed_at_zmag' is not defined"
     ]
    }
   ],
   "source": [
    "fig=plot_stillclosed_at_zmag(df,dz)\n",
    "show(fig,notebook_handle=True)"
   ]
  },
  {
   "cell_type": "code",
   "execution_count": 8,
   "metadata": {
    "collapsed": false,
    "scrolled": false
   },
   "outputs": [
    {
     "data": {
      "text/html": [
       "\n",
       "\n",
       "    <div class=\"bk-root\">\n",
       "        <div class=\"plotdiv\" id=\"32ff748f-bca4-4e25-bfae-9b12a7a67223\"></div>\n",
       "    </div>\n",
       "<script type=\"text/javascript\">\n",
       "  \n",
       "  (function(global) {\n",
       "    function now() {\n",
       "      return new Date();\n",
       "    }\n",
       "  \n",
       "    var force = \"\";\n",
       "  \n",
       "    if (typeof (window._bokeh_onload_callbacks) === \"undefined\" || force !== \"\") {\n",
       "      window._bokeh_onload_callbacks = [];\n",
       "      window._bokeh_is_loading = undefined;\n",
       "    }\n",
       "  \n",
       "  \n",
       "    \n",
       "    if (typeof (window._bokeh_timeout) === \"undefined\" || force !== \"\") {\n",
       "      window._bokeh_timeout = Date.now() + 0;\n",
       "      window._bokeh_failed_load = false;\n",
       "    }\n",
       "  \n",
       "    var NB_LOAD_WARNING = {'data': {'text/html':\n",
       "       \"<div style='background-color: #fdd'>\\n\"+\n",
       "       \"<p>\\n\"+\n",
       "       \"BokehJS does not appear to have successfully loaded. If loading BokehJS from CDN, this \\n\"+\n",
       "       \"may be due to a slow or bad network connection. Possible fixes:\\n\"+\n",
       "       \"</p>\\n\"+\n",
       "       \"<ul>\\n\"+\n",
       "       \"<li>re-rerun `output_notebook()` to attempt to load from CDN again, or</li>\\n\"+\n",
       "       \"<li>use INLINE resources instead, as so:</li>\\n\"+\n",
       "       \"</ul>\\n\"+\n",
       "       \"<code>\\n\"+\n",
       "       \"from bokeh.resources import INLINE\\n\"+\n",
       "       \"output_notebook(resources=INLINE)\\n\"+\n",
       "       \"</code>\\n\"+\n",
       "       \"</div>\"}};\n",
       "  \n",
       "    function display_loaded() {\n",
       "      if (window.Bokeh !== undefined) {\n",
       "        Bokeh.$(\"#32ff748f-bca4-4e25-bfae-9b12a7a67223\").text(\"BokehJS successfully loaded.\");\n",
       "      } else if (Date.now() < window._bokeh_timeout) {\n",
       "        setTimeout(display_loaded, 100)\n",
       "      }\n",
       "    }if ((window.Jupyter !== undefined) && Jupyter.notebook.kernel) {\n",
       "      comm_manager = Jupyter.notebook.kernel.comm_manager\n",
       "      comm_manager.register_target(\"a59dd9c0-b0b2-4ba4-9d7d-ee8b8d341731\", function () {});\n",
       "    }\n",
       "  \n",
       "    function run_callbacks() {\n",
       "      window._bokeh_onload_callbacks.forEach(function(callback) { callback() });\n",
       "      delete window._bokeh_onload_callbacks\n",
       "      console.info(\"Bokeh: all callbacks have finished\");\n",
       "    }\n",
       "  \n",
       "    function load_libs(js_urls, callback) {\n",
       "      window._bokeh_onload_callbacks.push(callback);\n",
       "      if (window._bokeh_is_loading > 0) {\n",
       "        console.log(\"Bokeh: BokehJS is being loaded, scheduling callback at\", now());\n",
       "        return null;\n",
       "      }\n",
       "      if (js_urls == null || js_urls.length === 0) {\n",
       "        run_callbacks();\n",
       "        return null;\n",
       "      }\n",
       "      console.log(\"Bokeh: BokehJS not loaded, scheduling load and callback at\", now());\n",
       "      window._bokeh_is_loading = js_urls.length;\n",
       "      for (var i = 0; i < js_urls.length; i++) {\n",
       "        var url = js_urls[i];\n",
       "        var s = document.createElement('script');\n",
       "        s.src = url;\n",
       "        s.async = false;\n",
       "        s.onreadystatechange = s.onload = function() {\n",
       "          window._bokeh_is_loading--;\n",
       "          if (window._bokeh_is_loading === 0) {\n",
       "            console.log(\"Bokeh: all BokehJS libraries loaded\");\n",
       "            run_callbacks()\n",
       "          }\n",
       "        };\n",
       "        s.onerror = function() {\n",
       "          console.warn(\"failed to load library \" + url);\n",
       "        };\n",
       "        console.log(\"Bokeh: injecting script tag for BokehJS library: \", url);\n",
       "        document.getElementsByTagName(\"head\")[0].appendChild(s);\n",
       "      }\n",
       "    };var element = document.getElementById(\"32ff748f-bca4-4e25-bfae-9b12a7a67223\");\n",
       "    if (element == null) {\n",
       "      console.log(\"Bokeh: ERROR: autoload.js configured with elementid '32ff748f-bca4-4e25-bfae-9b12a7a67223' but no matching script tag was found. \")\n",
       "      return false;\n",
       "    }\n",
       "  \n",
       "    var js_urls = [];\n",
       "  \n",
       "    var inline_js = [\n",
       "      function(Bokeh) {\n",
       "        Bokeh.$(function() {\n",
       "            var docs_json = {\"c5bd92fb-38e8-4e25-a702-840f82a07761\":{\"roots\":{\"references\":[{\"attributes\":{\"fill_color\":{\"value\":\"#1f77b4\"},\"line_color\":{\"value\":\"#1f77b4\"},\"x\":{\"field\":\"x\"},\"y\":{\"field\":\"y\"}},\"id\":\"3f66bc34-5617-44e0-8c55-1d1bc3d0d7c5\",\"type\":\"Circle\"},{\"attributes\":{},\"id\":\"90ff07cc-8f57-475b-9323-e7a3570048cf\",\"type\":\"BasicTickFormatter\"},{\"attributes\":{\"plot\":{\"id\":\"0af76003-1a94-41d8-9d2b-4ed8fb953e6f\",\"subtype\":\"Figure\",\"type\":\"Plot\"}},\"id\":\"191815a9-eb2b-4964-b181-01b29c301599\",\"type\":\"CrosshairTool\"},{\"attributes\":{},\"id\":\"8a7a22c7-c5ba-4a03-be9b-baa9d1983618\",\"type\":\"ToolEvents\"},{\"attributes\":{},\"id\":\"e200d05b-a39d-4308-95af-cd2d29786695\",\"type\":\"BasicTicker\"},{\"attributes\":{\"bottom_units\":\"screen\",\"fill_alpha\":{\"value\":0.5},\"fill_color\":{\"value\":\"lightgrey\"},\"left_units\":\"screen\",\"level\":\"overlay\",\"line_alpha\":{\"value\":1.0},\"line_color\":{\"value\":\"black\"},\"line_dash\":[4,4],\"line_width\":{\"value\":2},\"plot\":null,\"render_mode\":\"css\",\"right_units\":\"screen\",\"top_units\":\"screen\"},\"id\":\"b3f9ddbf-54a6-42a7-abc9-29d4654934e8\",\"type\":\"BoxAnnotation\"},{\"attributes\":{\"dimension\":1,\"plot\":{\"id\":\"0af76003-1a94-41d8-9d2b-4ed8fb953e6f\",\"subtype\":\"Figure\",\"type\":\"Plot\"},\"ticker\":{\"id\":\"40eb74fb-7178-4b2a-8d49-e22ace42fd2d\",\"type\":\"BasicTicker\"}},\"id\":\"6424cfeb-7002-4900-b274-aebb11c784bf\",\"type\":\"Grid\"},{\"attributes\":{\"plot\":{\"id\":\"0af76003-1a94-41d8-9d2b-4ed8fb953e6f\",\"subtype\":\"Figure\",\"type\":\"Plot\"}},\"id\":\"5b49fa23-1bc4-4dbf-90a7-f516f955d8dd\",\"type\":\"PanTool\"},{\"attributes\":{\"below\":[{\"id\":\"2ca81c21-1567-4300-a73a-7ed287424d6e\",\"type\":\"LinearAxis\"}],\"left\":[{\"id\":\"9d071993-fa54-4b4d-ba46-a225cba1f662\",\"type\":\"LinearAxis\"}],\"renderers\":[{\"id\":\"2ca81c21-1567-4300-a73a-7ed287424d6e\",\"type\":\"LinearAxis\"},{\"id\":\"4a8b2909-c248-4469-af30-160c386a636b\",\"type\":\"Grid\"},{\"id\":\"9d071993-fa54-4b4d-ba46-a225cba1f662\",\"type\":\"LinearAxis\"},{\"id\":\"6424cfeb-7002-4900-b274-aebb11c784bf\",\"type\":\"Grid\"},{\"id\":\"b3f9ddbf-54a6-42a7-abc9-29d4654934e8\",\"type\":\"BoxAnnotation\"},{\"id\":\"54e02752-ab0e-448b-b854-22a68290adc2\",\"type\":\"GlyphRenderer\"}],\"title\":{\"id\":\"93ec71a4-1077-4c3c-a536-3b997c490aea\",\"type\":\"Title\"},\"tool_events\":{\"id\":\"8a7a22c7-c5ba-4a03-be9b-baa9d1983618\",\"type\":\"ToolEvents\"},\"toolbar\":{\"id\":\"5941bdc7-e9ec-4c51-be12-1ccbaeda0bc7\",\"type\":\"Toolbar\"},\"x_range\":{\"id\":\"53c64e7f-39d2-4b62-890a-a0344b4ffa8a\",\"type\":\"DataRange1d\"},\"y_range\":{\"id\":\"742d7b1b-4815-40b9-b96e-1d1e2f8ae09e\",\"type\":\"DataRange1d\"}},\"id\":\"0af76003-1a94-41d8-9d2b-4ed8fb953e6f\",\"subtype\":\"Figure\",\"type\":\"Plot\"},{\"attributes\":{},\"id\":\"254c7446-2fd0-4488-940a-2f503ab72ef5\",\"type\":\"BasicTickFormatter\"},{\"attributes\":{\"callback\":null,\"column_names\":[\"y\",\"x\"],\"data\":{\"x\":[-0.8989999890327454,-0.8980000019073486,-0.8939999938011169,-0.8899999856948853,-0.8889999985694885,-0.8849999904632568,-0.8830000162124634,-0.878000020980835,-0.8769999742507935,-0.8759999871253967,-0.8740000128746033,-0.8690000176429749,-0.8650000095367432,-0.8619999885559082,-0.8610000014305115,-0.8569999933242798,-0.8539999723434448,-0.8529999852180481,-0.8489999771118164,-0.8479999899864197,-0.843999981880188,-0.8399999737739563,-0.8360000252723694,-0.8349999785423279,-0.828000009059906,-0.8270000219345093,-0.8240000009536743,-0.8230000138282776,-0.8190000057220459,-0.8149999976158142,-0.8140000104904175,-0.8109999895095825,-0.8050000071525574,-0.7900000214576721,-0.7860000133514404,-0.7820000052452087,-0.781000018119812,-0.7789999842643738,-0.777999997138977,-0.7739999890327454,-0.7689999938011169,-0.7649999856948853,-0.7639999985694885,-0.7599999904632568,-0.7580000162124634,-0.753000020980835,-0.7519999742507935,-0.7509999871253967,-0.75,-0.7440000176429749,-0.7419999837875366,-0.7319999933242798,-0.7310000061988831,-0.7279999852180481,-0.7269999980926514,-0.7229999899864197,-0.718999981880188,-0.7149999737739563,-0.7110000252723694,-0.7099999785423279,-0.7020000219345093,-0.6980000138282776,-0.6890000104904175,-0.6859999895095825,-0.6819999814033508,-0.6809999942779541,-0.6729999780654907,-0.6690000295639038,-0.6650000214576721,-0.6620000004768372,-0.6610000133514404,-0.6539999842643738,-0.652999997138977,-0.6489999890327454,-0.6439999938011169,-0.6349999904632568,-0.6230000257492065,-0.6140000224113464,-0.6069999933242798,-0.6060000061988831,-0.6029999852180481,-0.593999981880188,-0.5929999947547913,-0.5899999737739563,-0.5860000252723694,-0.5849999785423279,-0.5770000219345093,-0.5730000138282776,-0.5640000104904175,-0.5609999895095825,-0.5569999814033508,-0.5479999780654907,-0.5440000295639038,-0.5429999828338623,-0.5400000214576721,-0.5289999842643738,-0.5230000019073486,-0.5180000066757202,-0.5099999904632568,-0.5080000162124634,-0.49799999594688416,-0.48100000619888306,-0.4690000116825104,-0.4650000035762787,-0.4560000002384186,-0.4519999921321869,-0.4440000057220459,-0.4429999887943268,-0.4390000104904175,-0.4359999895095825,-0.4309999942779541,-0.4300000071525574,-0.4189999997615814,-0.4180000126361847,-0.41200000047683716,-0.4059999883174896,-0.39399999380111694,-0.3930000066757202,-0.38499999046325684,-0.382999986410141,-0.375,-0.37299999594688416,-0.3610000014305115,-0.35600000619888306,-0.3479999899864197,-0.3440000116825104,-0.34299999475479126,-0.3400000035762787,-0.3310000002384186,-0.32600000500679016,-0.3190000057220459,-0.3179999887943268,-0.3140000104904175,-0.3109999895095825,-0.3070000112056732,-0.3059999942779541,-0.2939999997615814,-0.2930000126361847,-0.2809999883174896,-0.26899999380111694,-0.2680000066757202,-0.25999999046325684,-0.24799999594688416,-0.24400000274181366,-0.24199999868869781,-0.23100000619888306,-0.21899999678134918,-0.21799999475479126,-0.20200000703334808,-0.1979999989271164,-0.1809999942779541,-0.16899999976158142,\"NaN\",\"NaN\",\"NaN\",\"NaN\",-0.8809999823570251,-0.8730000257492065,-0.8640000224113464,-0.8600000143051147,-0.8389999866485596,-0.8320000171661377,-0.8309999704360962,-0.8119999766349792,-0.8100000023841858,-0.8069999814033508,-0.8019999861717224,-0.7979999780654907,-0.7940000295639038,-0.7889999747276306,-0.7850000262260437,-0.7730000019073486,-0.7559999823570251,-0.7490000128746033,-0.7480000257492065,-0.7400000095367432,-0.7360000014305115,-0.7350000143051147,-0.7239999771118164,-0.7139999866485596,-0.7070000171661377,-0.7059999704360962,-0.6940000057220459,-0.6899999976158142,-0.6850000023841858,-0.6779999732971191,-0.6769999861717224,-0.6740000247955322,-0.6639999747276306,-0.6600000262260437,-0.6570000052452087,-0.6480000019073486,-0.6399999856948853,-0.6389999985694885,-0.6330000162124634,-0.6309999823570251,-0.628000020980835,-0.6269999742507935,-0.6259999871253967,-0.6190000176429749,-0.6179999709129333,-0.6150000095367432,-0.6110000014305115,-0.6100000143051147,-0.6019999980926514,-0.5979999899864197,-0.5889999866485596,-0.5820000171661377,-0.5809999704360962,-0.5690000057220459,-0.5680000185966492,-0.5649999976158142,-0.5600000023841858,-0.5529999732971191,-0.5519999861717224,-0.5490000247955322,-0.5410000085830688,-0.5389999747276306,-0.5360000133514404,-0.5320000052452087,-0.527999997138977,-0.5189999938011169,-0.5149999856948853,-0.5139999985694885,-0.5059999823570251,-0.5019999742507935,-0.5009999871253967,-0.49399998784065247,-0.49000000953674316,-0.48899999260902405,-0.4860000014305115,-0.48500001430511475,-0.4819999933242798,-0.47699999809265137,-0.4740000069141388,-0.47200000286102295,-0.46399998664855957,-0.460999995470047,-0.46000000834465027,-0.4569999873638153,-0.4480000138282776,-0.4399999976158142,-0.4350000023841858,-0.4269999861717224,-0.4230000078678131,-0.41499999165534973,-0.414000004529953,-0.41100001335144043,-0.4099999964237213,-0.40400001406669617,-0.4020000100135803,-0.39800000190734863,-0.3970000147819519,-0.38999998569488525,-0.3889999985694885,-0.38100001215934753,-0.3779999911785126,-0.37700000405311584,-0.37599998712539673,-0.3720000088214874,-0.36899998784065247,-0.3659999966621399,-0.36500000953674316,-0.36000001430511475,-0.3569999933242798,-0.35199999809265137,-0.34700000286102295,-0.33899998664855957,-0.335999995470047,-0.33500000834465027,-0.3319999873638153,-0.3269999921321869,-0.3230000138282776,-0.3149999976158142,-0.3100000023841858,-0.3019999861717224,-0.2980000078678131,-0.29499998688697815,-0.28999999165534973,-0.2879999876022339,-0.28600001335144043,-0.27900001406669617,-0.2770000100135803,-0.27300000190734863,-0.2720000147819519,-0.26499998569488525,-0.2639999985694885,-0.257999986410141,-0.25600001215934753,-0.25099998712539673,-0.24300000071525574,-0.23899999260902405,-0.23499999940395355,-0.23399999737739563,-0.23199999332427979,-0.22699999809265137,-0.22300000488758087,-0.22200000286102295,-0.2150000035762787,-0.21400000154972076,-0.210999995470047,-0.20999999344348907,-0.20600000023841858,-0.19699999690055847,-0.1940000057220459,-0.19300000369548798,-0.1899999976158142,-0.1889999955892563,-0.1860000044107437,-0.1850000023841858,-0.1770000010728836,-0.17599999904632568,-0.17299999296665192,-0.1679999977350235],\"y\":[0.0,0.0,0.004524886877828055,0.004524886877828055,0.004524886877828055,0.004524886877828055,0.004524886877828055,0.004524886877828055,0.004524886877828055,0.004524886877828055,0.004524886877828055,0.004524886877828055,0.004524886877828055,0.004524886877828055,0.004524886877828055,0.004524886877828055,0.004524886877828055,0.004524886877828055,0.004524886877828055,0.004524886877828055,0.004524886877828055,0.004524886877828055,0.004524886877828055,0.004524886877828055,0.004524886877828055,0.006787330316742082,0.006787330316742082,0.006787330316742082,0.006787330316742082,0.006787330316742082,0.006787330316742082,0.006787330316742082,0.006787330316742082,0.00904977375565611,0.00904977375565611,0.00904977375565611,0.00904977375565611,0.011312217194570135,0.011312217194570135,0.011312217194570135,0.011312217194570135,0.011312217194570135,0.011312217194570135,0.011312217194570135,0.011312217194570135,0.013574660633484163,0.013574660633484163,0.013574660633484163,0.013574660633484163,0.013574660633484163,0.013574660633484163,0.013574660633484163,0.013574660633484163,0.013574660633484163,0.013574660633484163,0.013574660633484163,0.01583710407239819,0.01583710407239819,0.01583710407239819,0.01583710407239819,0.01809954751131222,0.020361990950226245,0.020361990950226245,0.020361990950226245,0.020361990950226245,0.020361990950226245,0.02262443438914027,0.02262443438914027,0.02262443438914027,0.02262443438914027,0.024886877828054297,0.024886877828054297,0.024886877828054297,0.024886877828054297,0.024886877828054297,0.024886877828054297,0.029411764705882353,0.029411764705882353,0.029411764705882353,0.029411764705882353,0.029411764705882353,0.033936651583710405,0.033936651583710405,0.033936651583710405,0.033936651583710405,0.033936651583710405,0.03619909502262444,0.03619909502262444,0.03619909502262444,0.038461538461538464,0.04072398190045249,0.04524886877828054,0.04524886877828054,0.04524886877828054,0.05203619909502263,0.058823529411764705,0.07013574660633484,0.07692307692307693,0.08597285067873303,0.09049773755656108,0.09728506787330317,0.12669683257918551,0.14027149321266968,0.14705882352941177,0.16063348416289594,0.16515837104072398,0.17420814479638008,0.17420814479638008,0.18099547511312217,0.1832579185520362,0.18778280542986425,0.18778280542986425,0.21040723981900453,0.21040723981900453,0.2171945701357466,0.23076923076923078,0.248868778280543,0.248868778280543,0.27601809954751133,0.29411764705882354,0.3438914027149321,0.3552036199095023,0.4321266968325792,0.43665158371040724,0.48642533936651583,0.5180995475113123,0.5180995475113123,0.5610859728506787,0.6402714932126696,0.7081447963800905,0.7782805429864253,0.7782805429864253,0.8054298642533937,0.8484162895927602,0.8755656108597285,0.8800904977375565,0.9321266968325792,0.9321266968325792,0.9592760180995475,0.9796380090497737,0.9796380090497737,0.9841628959276018,0.995475113122172,0.995475113122172,0.995475113122172,0.995475113122172,0.995475113122172,0.995475113122172,0.995475113122172,0.995475113122172,0.995475113122172,0.995475113122172,0.0,0.0,0.0,0.0,0.004524886877828055,0.004524886877828055,0.004524886877828055,0.004524886877828055,0.004524886877828055,0.004524886877828055,0.004524886877828055,0.006787330316742082,0.006787330316742082,0.006787330316742082,0.006787330316742082,0.006787330316742082,0.006787330316742082,0.00904977375565611,0.00904977375565611,0.011312217194570135,0.011312217194570135,0.013574660633484163,0.013574660633484163,0.013574660633484163,0.013574660633484163,0.013574660633484163,0.013574660633484163,0.01583710407239819,0.01583710407239819,0.01583710407239819,0.020361990950226245,0.020361990950226245,0.020361990950226245,0.02262443438914027,0.02262443438914027,0.02262443438914027,0.02262443438914027,0.024886877828054297,0.024886877828054297,0.024886877828054297,0.024886877828054297,0.024886877828054297,0.029411764705882353,0.029411764705882353,0.029411764705882353,0.029411764705882353,0.029411764705882353,0.029411764705882353,0.029411764705882353,0.029411764705882353,0.029411764705882353,0.029411764705882353,0.029411764705882353,0.03167420814479638,0.033936651583710405,0.033936651583710405,0.033936651583710405,0.03619909502262444,0.03619909502262444,0.03619909502262444,0.038461538461538464,0.04524886877828054,0.04524886877828054,0.04524886877828054,0.05203619909502263,0.05203619909502263,0.05429864253393665,0.05656108597285068,0.058823529411764705,0.07692307692307693,0.083710407239819,0.083710407239819,0.09276018099547512,0.09502262443438914,0.09502262443438914,0.10407239819004525,0.1085972850678733,0.1085972850678733,0.1244343891402715,0.1244343891402715,0.12669683257918551,0.12895927601809956,0.13574660633484162,0.13800904977375567,0.14705882352941177,0.15610859728506787,0.15610859728506787,0.16063348416289594,0.17194570135746606,0.18099547511312217,0.1832579185520362,0.18778280542986425,0.19457013574660634,0.2149321266968326,0.2149321266968326,0.22171945701357465,0.22171945701357465,0.23755656108597284,0.23755656108597284,0.24660633484162897,0.248868778280543,0.2579185520361991,0.2579185520361991,0.29638009049773756,0.3212669683257919,0.3212669683257919,0.33710407239819007,0.3597285067873303,0.38687782805429866,0.40271493212669685,0.40497737556561086,0.4321266968325792,0.43665158371040724,0.45701357466063347,0.48868778280542985,0.5610859728506787,0.5950226244343891,0.5950226244343891,0.6380090497737556,0.6877828054298643,0.7307692307692307,0.8054298642533937,0.8484162895927602,0.9004524886877828,0.920814479638009,0.9298642533936652,0.9457013574660633,0.9547511312217195,0.9547511312217195,0.9615384615384616,0.9615384615384616,0.9660633484162896,0.9660633484162896,0.9841628959276018,0.9841628959276018,0.9864253393665159,0.9864253393665159,0.9932126696832579,0.995475113122172,0.995475113122172,0.995475113122172,0.995475113122172,0.995475113122172,0.995475113122172,0.995475113122172,0.995475113122172,0.995475113122172,0.995475113122172,0.995475113122172,0.995475113122172,0.995475113122172,0.995475113122172,0.995475113122172,0.995475113122172,0.995475113122172,0.995475113122172,0.995475113122172,0.995475113122172,0.995475113122172,0.995475113122172,0.995475113122172,0.995475113122172]}},\"id\":\"4c40e540-ea2c-4b86-ad33-5b82e216a6f4\",\"type\":\"ColumnDataSource\"},{\"attributes\":{\"active_drag\":\"auto\",\"active_scroll\":\"auto\",\"active_tap\":\"auto\",\"tools\":[{\"id\":\"191815a9-eb2b-4964-b181-01b29c301599\",\"type\":\"CrosshairTool\"},{\"id\":\"5b49fa23-1bc4-4dbf-90a7-f516f955d8dd\",\"type\":\"PanTool\"},{\"id\":\"71011df3-4c06-466c-b187-86588e616a08\",\"type\":\"WheelZoomTool\"},{\"id\":\"90d3e5b0-77db-4d25-882c-ee21cd51ad9e\",\"type\":\"BoxZoomTool\"},{\"id\":\"b12255ad-426c-4290-8dc1-469b8db15ee1\",\"type\":\"ResetTool\"},{\"id\":\"6407a993-840f-4d19-83ec-ca1c2d4579da\",\"type\":\"SaveTool\"},{\"id\":\"ad631c86-cc1f-41ee-ac79-96b40bd92dd3\",\"type\":\"HoverTool\"}]},\"id\":\"5941bdc7-e9ec-4c51-be12-1ccbaeda0bc7\",\"type\":\"Toolbar\"},{\"attributes\":{\"plot\":{\"id\":\"0af76003-1a94-41d8-9d2b-4ed8fb953e6f\",\"subtype\":\"Figure\",\"type\":\"Plot\"},\"ticker\":{\"id\":\"e200d05b-a39d-4308-95af-cd2d29786695\",\"type\":\"BasicTicker\"}},\"id\":\"4a8b2909-c248-4469-af30-160c386a636b\",\"type\":\"Grid\"},{\"attributes\":{\"plot\":null,\"text\":\"ratio of beads still open as zmag decreases\"},\"id\":\"93ec71a4-1077-4c3c-a536-3b997c490aea\",\"type\":\"Title\"},{\"attributes\":{\"plot\":{\"id\":\"0af76003-1a94-41d8-9d2b-4ed8fb953e6f\",\"subtype\":\"Figure\",\"type\":\"Plot\"}},\"id\":\"b12255ad-426c-4290-8dc1-469b8db15ee1\",\"type\":\"ResetTool\"},{\"attributes\":{\"callback\":null},\"id\":\"742d7b1b-4815-40b9-b96e-1d1e2f8ae09e\",\"type\":\"DataRange1d\"},{\"attributes\":{},\"id\":\"40eb74fb-7178-4b2a-8d49-e22ace42fd2d\",\"type\":\"BasicTicker\"},{\"attributes\":{\"overlay\":{\"id\":\"b3f9ddbf-54a6-42a7-abc9-29d4654934e8\",\"type\":\"BoxAnnotation\"},\"plot\":{\"id\":\"0af76003-1a94-41d8-9d2b-4ed8fb953e6f\",\"subtype\":\"Figure\",\"type\":\"Plot\"}},\"id\":\"90d3e5b0-77db-4d25-882c-ee21cd51ad9e\",\"type\":\"BoxZoomTool\"},{\"attributes\":{\"axis_label\":\"zmag\",\"formatter\":{\"id\":\"90ff07cc-8f57-475b-9323-e7a3570048cf\",\"type\":\"BasicTickFormatter\"},\"plot\":{\"id\":\"0af76003-1a94-41d8-9d2b-4ed8fb953e6f\",\"subtype\":\"Figure\",\"type\":\"Plot\"},\"ticker\":{\"id\":\"e200d05b-a39d-4308-95af-cd2d29786695\",\"type\":\"BasicTicker\"}},\"id\":\"2ca81c21-1567-4300-a73a-7ed287424d6e\",\"type\":\"LinearAxis\"},{\"attributes\":{\"plot\":{\"id\":\"0af76003-1a94-41d8-9d2b-4ed8fb953e6f\",\"subtype\":\"Figure\",\"type\":\"Plot\"}},\"id\":\"71011df3-4c06-466c-b187-86588e616a08\",\"type\":\"WheelZoomTool\"},{\"attributes\":{\"fill_alpha\":{\"value\":0.1},\"fill_color\":{\"value\":\"#1f77b4\"},\"line_alpha\":{\"value\":0.1},\"line_color\":{\"value\":\"#1f77b4\"},\"x\":{\"field\":\"x\"},\"y\":{\"field\":\"y\"}},\"id\":\"733e45d4-ead7-439a-9ee4-86cdd87fb2d9\",\"type\":\"Circle\"},{\"attributes\":{\"axis_label\":\"% of open beads\",\"formatter\":{\"id\":\"254c7446-2fd0-4488-940a-2f503ab72ef5\",\"type\":\"BasicTickFormatter\"},\"plot\":{\"id\":\"0af76003-1a94-41d8-9d2b-4ed8fb953e6f\",\"subtype\":\"Figure\",\"type\":\"Plot\"},\"ticker\":{\"id\":\"40eb74fb-7178-4b2a-8d49-e22ace42fd2d\",\"type\":\"BasicTicker\"}},\"id\":\"9d071993-fa54-4b4d-ba46-a225cba1f662\",\"type\":\"LinearAxis\"},{\"attributes\":{\"plot\":{\"id\":\"0af76003-1a94-41d8-9d2b-4ed8fb953e6f\",\"subtype\":\"Figure\",\"type\":\"Plot\"}},\"id\":\"6407a993-840f-4d19-83ec-ca1c2d4579da\",\"type\":\"SaveTool\"},{\"attributes\":{\"data_source\":{\"id\":\"4c40e540-ea2c-4b86-ad33-5b82e216a6f4\",\"type\":\"ColumnDataSource\"},\"glyph\":{\"id\":\"3f66bc34-5617-44e0-8c55-1d1bc3d0d7c5\",\"type\":\"Circle\"},\"hover_glyph\":null,\"nonselection_glyph\":{\"id\":\"733e45d4-ead7-439a-9ee4-86cdd87fb2d9\",\"type\":\"Circle\"},\"selection_glyph\":null},\"id\":\"54e02752-ab0e-448b-b854-22a68290adc2\",\"type\":\"GlyphRenderer\"},{\"attributes\":{\"callback\":null,\"plot\":{\"id\":\"0af76003-1a94-41d8-9d2b-4ed8fb953e6f\",\"subtype\":\"Figure\",\"type\":\"Plot\"}},\"id\":\"ad631c86-cc1f-41ee-ac79-96b40bd92dd3\",\"type\":\"HoverTool\"},{\"attributes\":{\"callback\":null},\"id\":\"53c64e7f-39d2-4b62-890a-a0344b4ffa8a\",\"type\":\"DataRange1d\"}],\"root_ids\":[\"0af76003-1a94-41d8-9d2b-4ed8fb953e6f\"]},\"title\":\"Bokeh Application\",\"version\":\"0.12.3\"}};\n",
       "            var render_items = [{\"docid\":\"c5bd92fb-38e8-4e25-a702-840f82a07761\",\"elementid\":\"32ff748f-bca4-4e25-bfae-9b12a7a67223\",\"modelid\":\"0af76003-1a94-41d8-9d2b-4ed8fb953e6f\",\"notebook_comms_target\":\"a59dd9c0-b0b2-4ba4-9d7d-ee8b8d341731\"}];\n",
       "            \n",
       "            Bokeh.embed.embed_items(docs_json, render_items);\n",
       "        });\n",
       "      },\n",
       "      function(Bokeh) {\n",
       "      }\n",
       "    ];\n",
       "  \n",
       "    function run_inline_js() {\n",
       "      \n",
       "      if ((window.Bokeh !== undefined) || (force === \"1\")) {\n",
       "        for (var i = 0; i < inline_js.length; i++) {\n",
       "          inline_js[i](window.Bokeh);\n",
       "        }if (force === \"1\") {\n",
       "          display_loaded();\n",
       "        }} else if (Date.now() < window._bokeh_timeout) {\n",
       "        setTimeout(run_inline_js, 100);\n",
       "      } else if (!window._bokeh_failed_load) {\n",
       "        console.log(\"Bokeh: BokehJS failed to load within specified timeout.\");\n",
       "        window._bokeh_failed_load = true;\n",
       "      } else if (!force) {\n",
       "        var cell = $(\"#32ff748f-bca4-4e25-bfae-9b12a7a67223\").parents('.cell').data().cell;\n",
       "        cell.output_area.append_execute_result(NB_LOAD_WARNING)\n",
       "      }\n",
       "  \n",
       "    }\n",
       "  \n",
       "    if (window._bokeh_is_loading === 0) {\n",
       "      console.log(\"Bokeh: BokehJS loaded, going straight to plotting\");\n",
       "      run_inline_js();\n",
       "    } else {\n",
       "      load_libs(js_urls, function() {\n",
       "        console.log(\"Bokeh: BokehJS plotting callback run at\", now());\n",
       "        run_inline_js();\n",
       "      });\n",
       "    }\n",
       "  }(this));\n",
       "</script>"
      ]
     },
     "metadata": {},
     "output_type": "display_data"
    },
    {
     "name": "stdout",
     "output_type": "stream",
     "text": [
      "Careful, check with raw data that all beads are indeed closed!!\n"
     ]
    }
   ],
   "source": [
    "fig=plot_stillopen_at_zmag(df,dz)\n",
    "show(fig,notebook_handle=True)\n",
    "print(\"Careful, check with raw data that all beads are indeed closed!!\")"
   ]
  },
  {
   "cell_type": "code",
   "execution_count": null,
   "metadata": {
    "collapsed": false
   },
   "outputs": [],
   "source": []
  }
 ],
 "metadata": {
  "anaconda-cloud": {},
  "kernelspec": {
   "display_name": "Python [conda root]",
   "language": "python",
   "name": "conda-root-py"
  },
  "language_info": {
   "codemirror_mode": {
    "name": "ipython",
    "version": 3
   },
   "file_extension": ".py",
   "mimetype": "text/x-python",
   "name": "python",
   "nbconvert_exporter": "python",
   "pygments_lexer": "ipython3",
   "version": "3.5.2"
  }
 },
 "nbformat": 4,
 "nbformat_minor": 1
}
