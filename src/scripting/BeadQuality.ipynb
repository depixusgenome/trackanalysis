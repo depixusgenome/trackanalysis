{
 "cells": [
  {
   "cell_type": "markdown",
   "metadata": {},
   "source": [
    "# Getting Started"
   ]
  },
  {
   "cell_type": "markdown",
   "metadata": {
    "heading_collapsed": true
   },
   "source": [
    "## Bead Status\n",
    "We will define the `status` of the bead mainly by the fact that the bead can be:\n",
    "* `missing`\n",
    "* `fixed`\n",
    "* has one or more errors `errors>=1`\n",
    "* not present errors at all `ok`\n",
    "\n",
    "Note that an `ok` bead, which doesn't trigger an error, **is not** necessarily a *good* bead.\n",
    "\n",
    "## Defining `Missing` and `Fixed` beads\n",
    "\n",
    "Please note that for the detection of `missing` and `fixed` we have used several criteria based on the detected errors per bead. \n",
    "\n",
    "We observed from the analysis over 2 data sets of sequencing experiments that the criteria to detect *fixed beads* is precise at around 98%. This means that, for 100% of detected fixed beads, around 98% present the characteristic behavior of the missing beads, observable on the plot of the cycles of the bead. \n",
    "For the *missing beads*, the precision is about 80%. This means that, for 100% of detected missing beads, around 80% of them are missing on the field of view. \n",
    "\n",
    "\n",
    "## How to use it ?\n",
    "Copy this jupyter notebook and then type the path of your files and then execute the cells to get information about the quality of the beads for your experiment."
   ]
  },
  {
   "cell_type": "markdown",
   "metadata": {},
   "source": [
    "# Assessing the Quality of a Field of View"
   ]
  },
  {
   "cell_type": "code",
   "execution_count": null,
   "metadata": {
    "code_folding": [
     0
    ]
   },
   "outputs": [],
   "source": [
    "# import the code\n",
    "try:\n",
    "    from scripting     import *\n",
    "except ImportError:\n",
    "    from trackanalysis import *\n",
    "import beadquality as bq\n",
    "\n",
    "(hv.Div(\"<H4>Parameters used for data cleaning</H4>\")\n",
    " +hv.Table(pd.DataFrame(list(i for i in Tasks.cleaning().config().items() if isinstance(i[1], (float, str, int, bool))),\n",
    "                       columns = [\"key\", \"value\"]),\n",
    "          vdims = \"value\"))"
   ]
  },
  {
   "cell_type": "code",
   "execution_count": null,
   "metadata": {},
   "outputs": [],
   "source": [
    "tracks  = TracksDict(\"/home/pol/Documents/tracks/rnasequencing/ssHP6_Sequencing_20180102/*.pk\")\n",
    "dfmsg   = tracks.cleaning.messages().reset_index()\n",
    "trackqc = bq.trackqualitysummary(tracks, dfmsg)"
   ]
  },
  {
   "cell_type": "code",
   "execution_count": null,
   "metadata": {
    "code_folding": []
   },
   "outputs": [],
   "source": [
    "bq.displaystatusevolution(trackqc)"
   ]
  },
  {
   "cell_type": "code",
   "execution_count": null,
   "metadata": {},
   "outputs": [],
   "source": [
    "bq.displaytrackstatus(trackqc)"
   ]
  },
  {
   "cell_type": "code",
   "execution_count": null,
   "metadata": {
    "scrolled": false
   },
   "outputs": [],
   "source": [
    "bq.displaybeadandtrackstatus(trackqc)"
   ]
  },
  {
   "cell_type": "code",
   "execution_count": null,
   "metadata": {
    "scrolled": false
   },
   "outputs": [],
   "source": [
    "bq.displaystatusflow(trackqc, ...)"
   ]
  }
 ],
 "metadata": {
  "hide_input": false,
  "kernelspec": {
   "display_name": "Python 3",
   "language": "python",
   "name": "python3"
  },
  "language_info": {
   "codemirror_mode": {
    "name": "ipython",
    "version": 3
   },
   "file_extension": ".py",
   "mimetype": "text/x-python",
   "name": "python",
   "nbconvert_exporter": "python",
   "pygments_lexer": "ipython3",
   "version": "3.6.4"
  },
  "toc": {
   "nav_menu": {},
   "number_sections": true,
   "sideBar": true,
   "skip_h1_title": false,
   "toc_cell": false,
   "toc_position": {},
   "toc_section_display": "block",
   "toc_window_display": false
  }
 },
 "nbformat": 4,
 "nbformat_minor": 2
}
