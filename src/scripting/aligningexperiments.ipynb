{
 "cells": [
  {
   "cell_type": "markdown",
   "metadata": {},
   "source": [
    "# Initialize"
   ]
  },
  {
   "cell_type": "markdown",
   "metadata": {
    "heading_collapsed": true
   },
   "source": [
    "## from tracks"
   ]
  },
  {
   "cell_type": "code",
   "execution_count": null,
   "metadata": {
    "code_folding": [],
    "hidden": true
   },
   "outputs": [],
   "source": [
    "%sx mount /media/data\n",
    "# saving the track files to the local disk: reloading the analyses occurs faster\n",
    "from trackanalysis import *\n",
    "\n",
    "TRACKS = TracksDict(\"/media/data/sirius/Andreas/ssHP6_Sequencing_20180102/*/*.ana\", match = \".*OR3_mix_(...)_.*\")\n",
    "TRACKS['ref'] = \"/media/data/sirius/Andreas/ssHP6_Sequencing_20180102/Reference_oligo/Test_020_044_ssHP6_OR3-10_100nM_OR3-11_20nM_after_saturation.ana\"\n",
    "\n",
    "# we are now going to modify the paths as they were set on another system\n",
    "# we'll need to load the data for the modified paths to be taken into account\n",
    "patt = re.compile(\".*_OR3_mix_(.*?)_.*\")\n",
    "def _modpath(x):\n",
    "    # modify the list of paths to match the computer's paths\n",
    "    # as it happens, only one path (.trk) is expected here\n",
    "    if patt.match(x[0]):\n",
    "        # oligos\n",
    "        return [TRACKS[patt.match(x[0]).group(1)].path[0][:-3]+\"trk\"]\n",
    "    # ref\n",
    "    return [TRACKS['ref'].path[0][:-3]+\"trk\"]\n",
    "TRACKS.load(path=_modpath) # load and modify the paths\n",
    "\n",
    "# can now save\n",
    "TRACKS = TRACKS.save(\"/home/pol/Documents/tracks/rnasequencing/ssHP6_Sequencing_20180102/\")"
   ]
  },
  {
   "cell_type": "markdown",
   "metadata": {},
   "source": [
    "## from pk"
   ]
  },
  {
   "cell_type": "code",
   "execution_count": null,
   "metadata": {
    "code_folding": []
   },
   "outputs": [],
   "source": [
    "# reading the track files\n",
    "from trackanalysis import *\n",
    "\n",
    "TRACKS = TracksDict(\"/home/pol/Documents/tracks/rnasequencing/ssHP6_Sequencing_20180102/*.pk\")\n",
    "\n",
    "# Add & remove specific tasks as wanted\n",
    "for i in TRACKS.values():\n",
    "    i.tasks.cleaning  = None\n",
    "    i.tasks.selection = None\n",
    "TRACKS['GCA'].tasks.subtraction            = 0, 1, 4, 6, 8, 9\n",
    "TRACKS['GCA'].tasks.cleaning = Tasks.cleaning(maxsaturation = 100.)\n",
    "for i in TRACKS.values():\n",
    "    i.tasks.cleaning = Tasks.cleaning(minpopulation = 60.) # bead 18, track GGC has many missing cycles\n",
    "\n",
    "# the shelf will save computations to the hard drive\n",
    "# this makes reloading an analysis much quicker\n",
    "SHELF = LazyShelf(\"/home/pol/Documents/tracks/rnasequencing/ssHP6_Sequencing_20180102/20180327_rnasequencing_201801_biasperoligo.shelf\")\n",
    "\n",
    "# Sequences: I'm expecting:\n",
    "# * full: the full sequence\n",
    "# * target: the part to be sequenced\n",
    "# * oligo: the reference oligo\n",
    "SEQ   = dict(sequences.read(\"/home/pol/Documents/tracks/rnasequencing/ssHP6_all.txt\"))"
   ]
  },
  {
   "cell_type": "markdown",
   "metadata": {},
   "source": [
    "# Viewing Data"
   ]
  },
  {
   "cell_type": "code",
   "execution_count": null,
   "metadata": {
    "scrolled": false
   },
   "outputs": [],
   "source": [
    "%%opts Curve(alpha=0.5)\n",
    "TRACKS.cleancycles"
   ]
  },
  {
   "cell_type": "markdown",
   "metadata": {},
   "source": [
    "# Alignments"
   ]
  },
  {
   "cell_type": "code",
   "execution_count": null,
   "metadata": {
    "code_folding": [
     0,
     23
    ]
   },
   "outputs": [],
   "source": [
    "# alignment code\n",
    "from aligningexperiments import *\n",
    "\n",
    "def hppeaks(data, delta, seq = SEQ):\n",
    "    # return a *gray* scatter plot with the theoretical positions\n",
    "    # I'm expecting that the sequenc\n",
    "    xvals = []\n",
    "    yvals = []\n",
    "    \n",
    "    tgt   = [seq['full'].index(seq['target']), seq['full'].index(seq['target'])+len(seq['target'])]\n",
    "    for i in data.track.unique():\n",
    "        if i == 'ref':\n",
    "            oli = seq['oligo']\n",
    "        else:\n",
    "            oli = sequences.Translator.reversecomplement(i)\n",
    "            \n",
    "        oli   = sequences.peaks(seq['full'], oli)\n",
    "        if i != 'ref':\n",
    "            oli   = oli[oli['position'] >= tgt[0]]\n",
    "            oli   = oli[oli['position'] <= tgt[1]]\n",
    "        oli   = oli['position'][oli['orientation']]\n",
    "        xvals.append([i]*len(oli))\n",
    "        yvals.append(oli)\n",
    "    return hv.Scatter((np.concatenate(xvals), np.concatenate(yvals)+delta),\n",
    "                      label = 'oligo')(style =  dict(color = 'gray', alpha = .5, size = 5))\n",
    "\n",
    "def displayalignedbeads(data,\n",
    "                        ref       = 18,\n",
    "                        normalize = True,\n",
    "                        discarded = None,\n",
    "                        masks     = None,\n",
    "                        stretch   = Range(1., .15, .03),\n",
    "                        bias      = Range(0., 0.1, 0.01),\n",
    "                        **kwa):\n",
    "    # align all good beads in a track file\n",
    "    align = PeaksAlignment(**kwa)\n",
    "    if normalize is False:\n",
    "        align.refalign = None\n",
    "    else:\n",
    "        align.refalign.stretch = stretch\n",
    "        align.refalign.bias    = bias\n",
    "\n",
    "    data  = align(data, ref, discarded = discarded, masks = masks)\n",
    "    out   = align.display(data, align = False)\n",
    "    if align.hpalign is None:\n",
    "        return out\n",
    "    \n",
    "    tgt   = [SEQ['full'].index(SEQ['target']), SEQ['full'].index(SEQ['target'])+len(SEQ['target'])]\n",
    "    oli   = sequences.Translator.reversecomplement(data.track.unique()[0])\n",
    "    oli   = sequences.peaks(SEQ['full'], oli)\n",
    "    oli   = oli[oli['position'] >= tgt[0]]\n",
    "    oli   = oli[oli['position'] <= tgt[1]]\n",
    "    oli   = oli['position'][oli['orientation']]\n",
    "\n",
    "    ref   = sorted(list(sequences.peaks(SEQ['full'], SEQ['oligo'])['position'])+ tgt)\n",
    "    style = dict(color = 'gray', alpha = .5, size = 5)\n",
    "    out   = align.hpindisplay(data, oli, label = 'oligo', group = 'ref',\n",
    "                              style = dict(marker='square', **style))*out\n",
    "    out   = align.hpindisplay(data, ref, label = 'reference', group = 'ref',\n",
    "                              style = dict(marker='diamond', **style))*out\n",
    "    return out\n",
    "\n",
    "# create the data\n",
    "SHELF['DATA2'] = lambda: createpeaks(TRACKS)\n",
    "DATA          = SHELF['DATA2']"
   ]
  },
  {
   "cell_type": "code",
   "execution_count": null,
   "metadata": {
    "code_folding": []
   },
   "outputs": [],
   "source": [
    "# display the beads per number of tracks\n",
    "# good beads have many track and low resolution values\n",
    "hv.BoxWhisker(DATA.assign(resolution = DATA.resolution*1e3), [\"trackcount\", \"bead\"], \"resolution\")"
   ]
  },
  {
   "cell_type": "code",
   "execution_count": null,
   "metadata": {
    "code_folding": [
     0,
     8
    ]
   },
   "outputs": [],
   "source": [
    "%%opts Scatter[show_legend=False]\n",
    "# Check the alignments\n",
    "align = PeaksAlignment()\n",
    "align.refalign.stretch = Range(1., .05, .02)\n",
    "align.refalign.bias    = Range(0., .01, .002)\n",
    "align.refalign.pivot   = Pivot.absolute\n",
    "MASKS = {}\n",
    "DELTA = {}\n",
    "def _run(bead):\n",
    "    align.hpalign.peaks = align.hpalign.topeaks(SEQ['full'], SEQ['oligo'])\n",
    "    idelta = DELTA.get(bead, 0)\n",
    "    delta  = align.hpalign.peaks[idelta]\n",
    "    align.hpalign.peaks =  align.hpalign.peaks[idelta:]-delta\n",
    "    return (align.display(DATA[DATA.bead == bead], 'ref', masks= MASKS.get(bead, None))\n",
    "            *hppeaks(DATA, -delta))\n",
    "\n",
    "_run(18)"
   ]
  },
  {
   "cell_type": "code",
   "execution_count": null,
   "metadata": {
    "code_folding": [
     0
    ]
   },
   "outputs": [],
   "source": [
    "# save the csv\n",
    "PEAKS = (lambda i: align(DATA[DATA.bead == i], 'ref', masks = MASKS.get(i, None))\n",
    "         )(18)\n",
    "BARR = PEAKS[lambda x: x.track=='ref'].peakposition.unique()[[3,4]] + [3e-3, -3e-3]\n",
    "GOOD = (PEAKS\n",
    "        [lambda x: x.peakposition > BARR[0]]\n",
    "        [lambda x: x.peakposition < BARR[1]])\n",
    "pd.DataFrame({sequences.Translator.reversecomplement(i).lower(): pd.Series(GOOD[lambda x: x.track == i].peakposition.unique())\n",
    "              for i in set(GOOD.track.unique()) - {'ref'}}).to_csv(\"/tmp/data.csv\")"
   ]
  }
 ],
 "metadata": {
  "hide_input": false,
  "kernelspec": {
   "display_name": "Python 3",
   "language": "python",
   "name": "python3"
  },
  "language_info": {
   "codemirror_mode": {
    "name": "ipython",
    "version": 3
   },
   "file_extension": ".py",
   "mimetype": "text/x-python",
   "name": "python",
   "nbconvert_exporter": "python",
   "pygments_lexer": "ipython3",
   "version": "3.6.4"
  },
  "toc": {
   "nav_menu": {},
   "number_sections": true,
   "sideBar": true,
   "skip_h1_title": false,
   "toc_cell": false,
   "toc_position": {},
   "toc_section_display": "block",
   "toc_window_display": false
  }
 },
 "nbformat": 4,
 "nbformat_minor": 2
}
